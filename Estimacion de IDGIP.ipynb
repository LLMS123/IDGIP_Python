{
 "cells": [
  {
   "attachments": {},
   "cell_type": "markdown",
   "metadata": {},
   "source": [
    "# Script para la estimación de indicadores vinculados al **Índice de Desempeño de la Gestión en Inversión Pública (IDGIP)**"
   ]
  },
  {
   "attachments": {},
   "cell_type": "markdown",
   "metadata": {},
   "source": [
    "## 1. Librerías necesarias"
   ]
  },
  {
   "cell_type": "code",
   "execution_count": 1,
   "metadata": {},
   "outputs": [],
   "source": [
    "# Estaslibrerías si no estan instaladas, se istalan con el comando pip install (ejemplo: pip install pandas) en la consola de Python\n",
    "import pandas as pd #pip install pandas\n",
    "import numpy as np #pip install numpy\n",
    "import matplotlib.pyplot as plt #pip install matplotlib\n",
    "import seaborn as sns #pip install seaborn\n",
    "from pathlib import Path #pip install pathlib\n",
    "from janitor import clean_names #pip install janitor\n",
    "import getpass\n",
    "\n",
    "# Para que las figuras se inserten en el notebook\n",
    "%matplotlib inline"
   ]
  },
  {
   "attachments": {},
   "cell_type": "markdown",
   "metadata": {},
   "source": [
    "## 2. Rutas par importar la información"
   ]
  },
  {
   "cell_type": "code",
   "execution_count": 2,
   "metadata": {},
   "outputs": [],
   "source": [
    "# Para poder correr el script en otras maquinas\n",
    "user = getpass.getuser() # Capturo el usuario local / Ejemplo \"Llan_\", este es el nombre de mi usuario que inicie sesion en la pc\n",
    "user=user.upper()\n",
    "\n",
    "if    user== \"LLAN_\": # mi usuario\n",
    "      ruta = Path(r\"D:\\PROPUESTAS NELSON\\INDICADOR\\ESTIMACIÓN\")\n",
    "elif  user== \"Otro usuario\": # Se debería colocar el nombre del usuario\n",
    "      ruta = Path(r\"D:\\PROPUESTAS NELSON\\INDICADOR\\ESTIMACIÓN\") # se deberpia poner la ruta del otro usario"
   ]
  },
  {
   "cell_type": "code",
   "execution_count": 3,
   "metadata": {},
   "outputs": [],
   "source": [
    "# Defino la ruta donde se encuentra mi \"input\"\n",
    "ruta_input=ruta / 'Insumos'  \n",
    "\n",
    "# Defino la ruta donde exporare mi \"Output\"\n",
    "ruta_output=ruta / 'Output'  "
   ]
  },
  {
   "attachments": {},
   "cell_type": "markdown",
   "metadata": {},
   "source": [
    "## 3. Cargando la información (En archivos Excel)"
   ]
  },
  {
   "attachments": {},
   "cell_type": "markdown",
   "metadata": {},
   "source": [
    "\n",
    "### 3.1 Lista de inversiones totales (rep_inv_tocache_leoncio_prado)"
   ]
  },
  {
   "cell_type": "code",
   "execution_count": 4,
   "metadata": {},
   "outputs": [],
   "source": [
    "# pip install openpyxl\n",
    "data_inversiones = pd.read_excel(ruta_input / 'rep_inv_tocache_leoncio_prado.xlsx', sheet_name=\"SQL Results\")"
   ]
  },
  {
   "cell_type": "code",
   "execution_count": 5,
   "metadata": {},
   "outputs": [
    {
     "name": "stdout",
     "output_type": "stream",
     "text": [
      "<class 'pandas.core.frame.DataFrame'>\n",
      "RangeIndex: 8337 entries, 0 to 8336\n",
      "Data columns (total 100 columns):\n",
      " #   Column                  Non-Null Count  Dtype         \n",
      "---  ------                  --------------  -----         \n",
      " 0   Unnamed: 0              8337 non-null   int64         \n",
      " 1   CODIGO_UNICO            7604 non-null   float64       \n",
      " 2   CODIGO_SNIP             8337 non-null   int64         \n",
      " 3   NOMBRE_INVERSION        8337 non-null   object        \n",
      " 4   NIVEL                   8337 non-null   object        \n",
      " 5   SECTOR                  8337 non-null   object        \n",
      " 6   ENTIDAD                 8299 non-null   object        \n",
      " 7   OPMI                    2361 non-null   object        \n",
      " 8   RESPONSABLE_OPMI        2361 non-null   object        \n",
      " 9   UF                      8337 non-null   object        \n",
      " 10  RESP_NOMBRE_UF          8337 non-null   object        \n",
      " 11  UEI                     2365 non-null   object        \n",
      " 12  RESPONSABLE_UEI         2365 non-null   object        \n",
      " 13  FECHA_REGI              8337 non-null   datetime64[ns]\n",
      " 14  FECHA_VIAB              7100 non-null   datetime64[ns]\n",
      " 15  MONTO_VIABLE            7100 non-null   float64       \n",
      " 16  COSTO_ACTUALIZADO       8337 non-null   float64       \n",
      " 17  MONTO_LAUDO             8337 non-null   float64       \n",
      " 18  MONTO_FIANZA            8337 non-null   int64         \n",
      " 19  FUNCION                 8337 non-null   object        \n",
      " 20  PROGRAMA                8337 non-null   object        \n",
      " 21  SUBPROGRAM              8337 non-null   object        \n",
      " 22  ESTADO                  8337 non-null   object        \n",
      " 23  SITUACION               8337 non-null   object        \n",
      " 24  ULT_ESTU                7814 non-null   object        \n",
      " 25  ESTD_ESTU               5910 non-null   object        \n",
      " 26  BENEFICIARIO            7626 non-null   float64       \n",
      " 27  DEVENGADO_ACUMULADO     8337 non-null   float64       \n",
      " 28  DEV_AÑO_ACTUAL          8337 non-null   float64       \n",
      " 29  DEVEN_ACUMUL_ANIO_ANT   8337 non-null   float64       \n",
      " 30  PIM_AÑO_ACTUAL          8337 non-null   int64         \n",
      " 31  PIA_ANIO_VIG            8334 non-null   float64       \n",
      " 32  PRIM_DEV                4304 non-null   float64       \n",
      " 33  ULT_DEV                 4304 non-null   float64       \n",
      " 34  SEC_EJEC                8327 non-null   float64       \n",
      " 35  EJECUTORA               8246 non-null   object        \n",
      " 36  ULT_SEC_EJEC            6026 non-null   float64       \n",
      " 37  ULT_EJECUTORA           5943 non-null   object        \n",
      " 38  DEPARTAMENTO            8337 non-null   object        \n",
      " 39  PROVINCIA               8337 non-null   object        \n",
      " 40  DISTRITO                8337 non-null   object        \n",
      " 41  UBIGEO                  8337 non-null   int64         \n",
      " 42  CENTRO_POBLADO          7099 non-null   object        \n",
      " 43  UBIGEO_CEN_POB          1494 non-null   float64       \n",
      " 44  DES_MODALIDAD           6226 non-null   object        \n",
      " 45  NIVREQVIAB              5912 non-null   object        \n",
      " 46  MARCO                   8337 non-null   object        \n",
      " 47  DES_TIPO_FORMATO        8337 non-null   object        \n",
      " 48  DES_TIPOLOGIA           2212 non-null   object        \n",
      " 49  DES_NATURALEZA          1866 non-null   object        \n",
      " 50  ET_REGISTRADO           8337 non-null   object        \n",
      " 51  MTO_EXP_TCO             8332 non-null   float64       \n",
      " 52  MONTO_F15               8337 non-null   float64       \n",
      " 53  MONTO_F16               8337 non-null   float64       \n",
      " 54  MONTO_F17               8337 non-null   float64       \n",
      " 55  REG_CART_PMI_2023       8337 non-null   object        \n",
      " 56  REG_CART_PMI_2022       8337 non-null   object        \n",
      " 57  REG_CART_PMI_2021       8337 non-null   object        \n",
      " 58  REG_CART_PMI_2020       8337 non-null   object        \n",
      " 59  REG_CART_PMI_2019       8337 non-null   object        \n",
      " 60  MTO_PMI_2023            1111 non-null   float64       \n",
      " 61  MTO_PMI_2022            1566 non-null   float64       \n",
      " 62  MTO_PMI_2021            1914 non-null   float64       \n",
      " 63  MTO_PMI_2020            1747 non-null   float64       \n",
      " 64  MTO_PMI_2019            1190 non-null   float64       \n",
      " 65  PIM_2023                311 non-null    float64       \n",
      " 66  PIM_2022                1038 non-null   float64       \n",
      " 67  PIM_2021                1071 non-null   float64       \n",
      " 68  PIM_2020                1206 non-null   float64       \n",
      " 69  PIM_2019                1260 non-null   float64       \n",
      " 70  DEVEN_2023              311 non-null    float64       \n",
      " 71  DEVEN_2022              1038 non-null   float64       \n",
      " 72  DEVEN_2021              1071 non-null   float64       \n",
      " 73  DEVEN_2020              1206 non-null   float64       \n",
      " 74  DEVEN_2019              1260 non-null   float64       \n",
      " 75  NO_PREVISTA_2023        8337 non-null   object        \n",
      " 76  NO_PREVISTA_2022        8337 non-null   object        \n",
      " 77  NO_PREVISTA_2021        8337 non-null   object        \n",
      " 78  NO_PREVISTA_2020        8337 non-null   object        \n",
      " 79  NO_PREVISTA_2019        8337 non-null   object        \n",
      " 80  ULT_PROBLEMA            197 non-null    object        \n",
      " 81  DES_ULT_PROBLEMA        197 non-null    object        \n",
      " 82  ACC_PROBLEMA            197 non-null    object        \n",
      " 83  ULT_ESTADO_SITUACIONAL  2240 non-null   object        \n",
      " 84  NUM_POSTORES            1333 non-null   float64       \n",
      " 85  INFORME_CIERRE          8337 non-null   object        \n",
      " 86  FEC_CIERRE              1369 non-null   datetime64[ns]\n",
      " 87  DES_CIERRE              1488 non-null   object        \n",
      " 88  TIENE_F9                8337 non-null   object        \n",
      " 89  FEC_REG_F9              1186 non-null   datetime64[ns]\n",
      " 90  FEC_ULT_MODIF_F9        49 non-null     datetime64[ns]\n",
      " 91  SECCION_F9              1186 non-null   object        \n",
      " 92  ESTA_CULMINADA          8337 non-null   object        \n",
      " 93  ESTA_FUNCIONAMIENTO     8337 non-null   object        \n",
      " 94  FEC_INI_OPER            785 non-null    object        \n",
      " 95  DES_ARREGLO_OPE_MANT    871 non-null    object        \n",
      " 96  UNIDAD_OPE_MANT         871 non-null    object        \n",
      " 97  FEC_LIQUIDACION         772 non-null    datetime64[ns]\n",
      " 98  FEC_PRELIQUIDACION      175 non-null    datetime64[ns]\n",
      " 99  LIQUIDACION_OFICIO      8337 non-null   object        \n",
      "dtypes: datetime64[ns](7), float64(34), int64(5), object(54)\n",
      "memory usage: 6.4+ MB\n"
     ]
    }
   ],
   "source": [
    "# Observamos la lista de variables del \"Dataframe\"\n",
    "data_inversiones.info()"
   ]
  },
  {
   "cell_type": "code",
   "execution_count": 6,
   "metadata": {},
   "outputs": [
    {
     "data": {
      "text/plain": [
       "NIVEL  ENTIDAD                                                                                    \n",
       "GL     MUNICIPALIDAD DISTRITAL DE CASTILLO GRANDE                                                      76\n",
       "       MUNICIPALIDAD DISTRITAL DE DANIEL ALOMIA ROBLES                                                431\n",
       "       MUNICIPALIDAD DISTRITAL DE HERMILIO VALDIZAN                                                   328\n",
       "       MUNICIPALIDAD DISTRITAL DE HUANCA HUANCA                                                         1\n",
       "       MUNICIPALIDAD DISTRITAL DE JIRCAN                                                               20\n",
       "       MUNICIPALIDAD DISTRITAL DE JOSE CRESPO Y CASTILLO                                              631\n",
       "       MUNICIPALIDAD DISTRITAL DE LUYANDO                                                             480\n",
       "       MUNICIPALIDAD DISTRITAL DE MARIANO DAMASO BERAUN                                               343\n",
       "       MUNICIPALIDAD DISTRITAL DE NUEVO PROGRESO                                                      557\n",
       "       MUNICIPALIDAD DISTRITAL DE POLVORA                                                             336\n",
       "       MUNICIPALIDAD DISTRITAL DE PUCAYACU                                                             37\n",
       "       MUNICIPALIDAD DISTRITAL DE PUEBLO NUEVO-HUANUCO                                                 33\n",
       "       MUNICIPALIDAD DISTRITAL DE SAN PEDRO DE CHAULAN                                                  7\n",
       "       MUNICIPALIDAD DISTRITAL DE SANTO DOMINGO DE ANDA                                                37\n",
       "       MUNICIPALIDAD DISTRITAL DE SHUNTE                                                              147\n",
       "       MUNICIPALIDAD DISTRITAL DE UCHIZA                                                              595\n",
       "       MUNICIPALIDAD DISTRITAL DE YAMBRASBAMBA                                                          9\n",
       "       MUNICIPALIDAD PROVINCIAL DE HUANUCO                                                              9\n",
       "       MUNICIPALIDAD PROVINCIAL DE LEONCIO PRADO                                                      913\n",
       "       MUNICIPALIDAD PROVINCIAL DE TOCACHE                                                            856\n",
       "GN     COMISION NACIONAL PARA EL DESARROLLO Y VIDA SIN DROGAS - DEVIDA                                  5\n",
       "       CUERPO GENERAL DE BOMBEROS VOLUNTARIOS DEL PERU                                                  2\n",
       "       EMPRESA REGIONAL DE SERVICIO PÚBLICO DE\\nELECTRICIDAD DEL CENTRO S.A. - ELECTROCENTRO\\nS.A.      1\n",
       "       FONAFE                                                                                          46\n",
       "       FONDO DE COOPERACION PARA EL  DESARROLLO SOCIAL - FONCODES                                      16\n",
       "       INSTITUTO DE INVESTIGACIONES DE LA AMAZONIA PERUANA - IIAP                                       6\n",
       "       INSTITUTO NACIONAL DE DESARROLLO - INADE                                                        60\n",
       "       INSTITUTO NACIONAL DE INFRAESTRUCTURA EDUCATIVA Y DE SALUD - INFES                              46\n",
       "       INSTITUTO NACIONAL DE INNOVACIÓN AGRARIA – INIA                                                  6\n",
       "       INSTITUTO NACIONAL PENITENCIARIO - INPE                                                          2\n",
       "       INSTITUTO TECNOLOGICO DE LA PRODUCCION - ITP                                                     2\n",
       "       MINISTERIO DE AGRICULTURA Y RIEGO - MINAGRI                                                    115\n",
       "       MINISTERIO DE COMERCIO EXTERIOR Y TURISMO - MINCETUR                                             2\n",
       "       MINISTERIO DE DEFENSA - MINDEF                                                                   3\n",
       "       MINISTERIO DE EDUCACION                                                                        104\n",
       "       MINISTERIO DE ENERGIA Y MINAS                                                                  316\n",
       "       MINISTERIO DE JUSTICIA                                                                           5\n",
       "       MINISTERIO DE LA PRODUCCION                                                                      1\n",
       "       MINISTERIO DE SALUD                                                                             57\n",
       "       MINISTERIO DE TRANSPORTES Y COMUNICACIONES - MTC                                                80\n",
       "       MINISTERIO DE VIVIENDA, CONSTRUCCION Y SANEAMIENTO                                              77\n",
       "       MINISTERIO DEL AMBIENTE - MINAM                                                                  2\n",
       "       MINISTERIO DEL INTERIOR                                                                         22\n",
       "       MINISTERIO PUBLICO                                                                               5\n",
       "       OFICINA NACIONAL DE COOPERACION POPULAR                                                          1\n",
       "       OFICINA NACIONAL DE PROCESOS ELECTORALES - ONPE                                                  1\n",
       "       ORGANISMO DE FORMALIZACION DE LA PROPIEDAD INFORMAL - COFOPRI                                    1\n",
       "       PODER JUDICIAL                                                                                  22\n",
       "       PRESIDENCIA DEL CONSEJO DE MINISTROS                                                             5\n",
       "       PROGRAMA INTEGRAL NACIONAL PARA EL BIENESTAR FAMILIAR                                            1\n",
       "       PROGRAMA NACIONAL DE TELECOMUNICACIONES - PRONATEL                                               2\n",
       "       SEGURO SOCIAL DE SALUD DEL PERÚ - ESSALUD                                                       15\n",
       "       SERVICIO NACIONAL DE AREAS NATURALES PROTEGIDAS DEL ESTADO - SERNANP                             5\n",
       "       SERVICIO NACIONAL FORESTAL Y DE FAUNA SILVESTRE - SERFOR                                         5\n",
       "       SERVICIO NACIONAL METEOROLOGIA E HIDROLOGIA DEL PERU - SENAMHI                                   1\n",
       "       SUPERINTENDENCIA NACIONAL DE ADMINISTRACION TRIBUTARIA-SUNAT                                     4\n",
       "       SUPERINTENDENCIA NACIONAL DE LOS REGISTRO PUBLICOS - SUNARP                                      3\n",
       "       UNIVERSIDAD NACIONAL AGRARIA DE LA SELVA                                                       119\n",
       "GR     GOBIERNO REGIONAL HUANUCO                                                                      719\n",
       "       GOBIERNO REGIONAL SAN MARTIN                                                                   568\n",
       "dtype: int64"
      ]
     },
     "execution_count": 6,
     "metadata": {},
     "output_type": "execute_result"
    }
   ],
   "source": [
    "# Nos concetraremos en inversiones de \"Gobierno Local (GL)\" y de las provincias de Tocache y Leoncio Prado y sus distritos, Luego cuando se tenga que exportar\n",
    "# se tomara en cuenta solo los del ámbito de estudio.\n",
    "\n",
    "data_inversiones.groupby(['NIVEL', 'ENTIDAD']).size()"
   ]
  },
  {
   "cell_type": "code",
   "execution_count": 7,
   "metadata": {},
   "outputs": [],
   "source": [
    "# Nos concetramos en inversiones de Gobiernos Locales (Es decir las municipaliadades)\n",
    "data_inversiones =data_inversiones.loc[(data_inversiones['NIVEL']==\"GL\")]"
   ]
  },
  {
   "attachments": {},
   "cell_type": "markdown",
   "metadata": {},
   "source": [
    "Creando un ID para reconocer la municipalidad pronvincia y distrital de Tocache"
   ]
  },
  {
   "cell_type": "code",
   "execution_count": 8,
   "metadata": {},
   "outputs": [],
   "source": [
    "data_inversiones.loc[((data_inversiones.ENTIDAD==\"MUNICIPALIDAD PROVINCIAL DE TOCACHE\")) , 'id_ambito']=\"ProvTocache\""
   ]
  },
  {
   "cell_type": "code",
   "execution_count": 9,
   "metadata": {},
   "outputs": [],
   "source": [
    "data_inversiones.loc[((data_inversiones.ENTIDAD==\"MUNICIPALIDAD DISTRITAL DE NUEVO PROGRESO\") | \n",
    "(data_inversiones.ENTIDAD==\"MUNICIPALIDAD DISTRITAL DE POLVORA\") | (data_inversiones.ENTIDAD==\"MUNICIPALIDAD DISTRITAL DE SHUNTE\")\n",
    "| (data_inversiones.ENTIDAD==\"MUNICIPALIDAD DISTRITAL DE UCHIZA\")) , 'id_ambito']=\"DistTocache\""
   ]
  },
  {
   "attachments": {},
   "cell_type": "markdown",
   "metadata": {},
   "source": [
    "Creando un ID para reconocer la municipalidad pronvincia y distrital de Leoncio Prado"
   ]
  },
  {
   "cell_type": "code",
   "execution_count": 10,
   "metadata": {},
   "outputs": [],
   "source": [
    "data_inversiones.loc[((data_inversiones.ENTIDAD==\"MUNICIPALIDAD PROVINCIAL DE LEONCIO PRADO\")) , 'id_ambito']=\"ProvLeoncioPrado\""
   ]
  },
  {
   "cell_type": "code",
   "execution_count": 11,
   "metadata": {},
   "outputs": [],
   "source": [
    "data_inversiones.loc[((data_inversiones.ENTIDAD==\"MUNICIPALIDAD DISTRITAL DE CASTILLO GRANDE\") | \n",
    "(data_inversiones.ENTIDAD==\"MUNICIPALIDAD DISTRITAL DE DANIEL ALOMIA ROBLES\") | (data_inversiones.ENTIDAD==\"MUNICIPALIDAD DISTRITAL DE HERMILIO VALDIZAN\")\n",
    "| (data_inversiones.ENTIDAD==\"MUNICIPALIDAD DISTRITAL DE JOSE CRESPO Y CASTILLO\") | (data_inversiones.ENTIDAD==\"MUNICIPALIDAD DISTRITAL DE LUYANDO\")\n",
    "| (data_inversiones.ENTIDAD==\"MUNICIPALIDAD DISTRITAL DE MARIANO DAMASO BERAUN\") | (data_inversiones.ENTIDAD==\"MUNICIPALIDAD DISTRITAL DE PUCAYACU\")\n",
    "| (data_inversiones.ENTIDAD==\"MUNICIPALIDAD DISTRITAL DE PUEBLO NUEVO-HUANUCO\") | (data_inversiones.ENTIDAD==\"MUNICIPALIDAD DISTRITAL DE SANTO DOMINGO DE ANDA\")) , 'id_ambito']=\"DistLeoncioPrado\""
   ]
  },
  {
   "attachments": {},
   "cell_type": "markdown",
   "metadata": {},
   "source": [
    "Filtramos inversiones de Leoncio Prado y Tocache (Tanto provinciales como distritales)"
   ]
  },
  {
   "cell_type": "code",
   "execution_count": 12,
   "metadata": {},
   "outputs": [],
   "source": [
    "data_inversiones=data_inversiones.loc[(data_inversiones['id_ambito']==\"ProvTocache\") | (data_inversiones['id_ambito']==\"DistTocache\") \n",
    "| (data_inversiones['id_ambito']==\"ProvLeoncioPrado\") | (data_inversiones['id_ambito']==\"DistLeoncioPrado\")]"
   ]
  },
  {
   "cell_type": "code",
   "execution_count": 13,
   "metadata": {},
   "outputs": [],
   "source": [
    "# Remplazando missings\n",
    "data_inversiones.loc[(data_inversiones['MTO_PMI_2019'].isnull()),'MTO_PMI_2019']=0\n",
    "data_inversiones.loc[(data_inversiones['MTO_PMI_2020'].isnull()),'MTO_PMI_2020']=0\n",
    "data_inversiones.loc[(data_inversiones['MTO_PMI_2021'].isnull()),'MTO_PMI_2021']=0\n",
    "data_inversiones.loc[(data_inversiones['MTO_PMI_2022'].isnull()),'MTO_PMI_2022']=0\n",
    "\n",
    "data_inversiones.loc[(data_inversiones['PIM_2019'].isnull()),'PIM_2019']=0\n",
    "data_inversiones.loc[(data_inversiones['PIM_2020'].isnull()),'PIM_2020']=0\n",
    "data_inversiones.loc[(data_inversiones['PIM_2021'].isnull()),'PIM_2021']=0\n",
    "data_inversiones.loc[(data_inversiones['PIM_2022'].isnull()),'PIM_2022']=0\n",
    "\n",
    "data_inversiones.loc[(data_inversiones['DEVEN_2019'].isnull()),'DEVEN_2019']=0\n",
    "data_inversiones.loc[(data_inversiones['DEVEN_2020'].isnull()),'DEVEN_2020']=0\n",
    "data_inversiones.loc[(data_inversiones['DEVEN_2021'].isnull()),'DEVEN_2021']=0\n",
    "data_inversiones.loc[(data_inversiones['DEVEN_2022'].isnull()),'DEVEN_2022']=0"
   ]
  },
  {
   "cell_type": "code",
   "execution_count": 14,
   "metadata": {},
   "outputs": [],
   "source": [
    "# Año de viabilidad de las inversiones\n",
    "data_inversiones['año']=data_inversiones['FECHA_VIAB'].dt.year    \n",
    "data_inversiones['mes']=data_inversiones['FECHA_VIAB'].dt.month    \n",
    "data_inversiones['dia']=data_inversiones['FECHA_VIAB'].dt.day    \n",
    "\n",
    "# Total de días de registro\n",
    "#data_inversiones['dia_viable_total']=data_inversiones['año']*365 + data_inversiones['mes']*30 + data_inversiones['FECHA_VIAB'].dt.day    \n",
    "\n",
    "data_inversiones['año_reg']=data_inversiones['FECHA_VIAB'].dt.year    \n",
    "data_inversiones['mes_reg']=data_inversiones['FECHA_VIAB'].dt.month    \n",
    "data_inversiones['dia_reg']=data_inversiones['FECHA_VIAB'].dt.day \n"
   ]
  },
  {
   "cell_type": "code",
   "execution_count": 15,
   "metadata": {},
   "outputs": [],
   "source": [
    "#Formato de fecha sin considerar horas\n",
    "data_inversiones['FECHA_VIAB'] = pd.to_datetime(data_inversiones['FECHA_VIAB']).dt.normalize() \n",
    "data_inversiones['FECHA_REGI'] = pd.to_datetime(data_inversiones['FECHA_REGI']).dt.normalize() "
   ]
  },
  {
   "cell_type": "code",
   "execution_count": 16,
   "metadata": {},
   "outputs": [
    {
     "name": "stderr",
     "output_type": "stream",
     "text": [
      "<>:2: DeprecationWarning: invalid escape sequence '\\('\n",
      "<>:2: DeprecationWarning: invalid escape sequence '\\('\n",
      "C:\\Users\\llan_\\AppData\\Local\\Temp\\ipykernel_1472\\2784150869.py:2: DeprecationWarning: invalid escape sequence '\\('\n",
      "  data_inversiones['PROBLEMA'] = (data_inversiones['DES_ULT_PROBLEMA'].str.findall(pat = '\\((.*?)\\)')).str[0]\n"
     ]
    }
   ],
   "source": [
    "# Extraendo los tipos de problemas registrados\n",
    "data_inversiones['PROBLEMA'] = (data_inversiones['DES_ULT_PROBLEMA'].str.findall(pat = '\\((.*?)\\)')).str[0]"
   ]
  },
  {
   "cell_type": "code",
   "execution_count": 17,
   "metadata": {},
   "outputs": [],
   "source": [
    "#Solo se consideran Proyectos de Inversion e IOARR\n",
    "data_inversiones=data_inversiones.loc[~((data_inversiones['DES_TIPO_FORMATO']==\"PROGRAMA DE INVERSION\") | (data_inversiones['DES_TIPO_FORMATO']==\"PROGRAMA (SNIP)\"))]"
   ]
  },
  {
   "cell_type": "code",
   "execution_count": 18,
   "metadata": {},
   "outputs": [],
   "source": [
    "#data_fake=data_inversiones[['CODIGO_UNICO','CODIGO_SNIP','ULT_PROBLEMA','DES_ULT_PROBLEMA','ACC_PROBLEMA','PROBLEMA']]\n",
    "#data_fake.to_excel(ruta_output / 'fake.xlsx', sheet_name='fake' , index= False)"
   ]
  },
  {
   "cell_type": "code",
   "execution_count": 19,
   "metadata": {},
   "outputs": [],
   "source": [
    "#data_inversiones.groupby(['año']).size()"
   ]
  },
  {
   "cell_type": "code",
   "execution_count": 20,
   "metadata": {},
   "outputs": [],
   "source": [
    "#data_inversiones['año'].info()"
   ]
  },
  {
   "cell_type": "code",
   "execution_count": 21,
   "metadata": {},
   "outputs": [],
   "source": [
    "# Exportando la base\n",
    "data_inversiones.to_excel(ruta_output / 'base_inversiones_intermedia.xlsx', sheet_name='inversiones' , index= False)"
   ]
  },
  {
   "attachments": {},
   "cell_type": "markdown",
   "metadata": {},
   "source": [
    "### 3.2 Base Ejecución de inversiones (rep_deveng_mes)"
   ]
  },
  {
   "cell_type": "code",
   "execution_count": 22,
   "metadata": {},
   "outputs": [],
   "source": [
    "data_ejecucion_inv = pd.read_excel(ruta_input / 'rep_deveng_mes.xlsx', sheet_name=\"SQL Results\")"
   ]
  },
  {
   "cell_type": "code",
   "execution_count": 23,
   "metadata": {},
   "outputs": [],
   "source": [
    "#string la fecha\n",
    "data_ejecucion_inv.loc[(data_ejecucion_inv['MES_EJE'].isnull()),'MES_EJE']=0\n",
    "data_ejecucion_inv['MES_EJE']=data_ejecucion_inv['MES_EJE'].astype(int)\n",
    "data_ejecucion_inv['MES_EJE']=data_ejecucion_inv['MES_EJE'].astype(str)\n",
    "data_ejecucion_inv['ANO_EJE']=data_ejecucion_inv['ANO_EJE'].astype(str)"
   ]
  },
  {
   "cell_type": "code",
   "execution_count": 24,
   "metadata": {},
   "outputs": [],
   "source": [
    "#crendo el string de fecha\n",
    "data_ejecucion_inv['FECHA_EJEC']=\"01\" + \"/\" + data_ejecucion_inv['MES_EJE'] + \"/\"  + data_ejecucion_inv['ANO_EJE'] \n",
    "data_ejecucion_inv['FECHA_EJEC'] = pd.to_datetime(data_ejecucion_inv['FECHA_EJEC'],errors=\"coerce\" )"
   ]
  },
  {
   "cell_type": "code",
   "execution_count": 25,
   "metadata": {},
   "outputs": [],
   "source": [
    "#data_ejecucion_inv.to_excel(ruta_output / 'fake_2.xlsx', sheet_name='inversiones' , index= False)"
   ]
  },
  {
   "attachments": {},
   "cell_type": "markdown",
   "metadata": {},
   "source": [
    "### 3.3 Base aprobación de ET o DE (rep_et_de_aprob)"
   ]
  },
  {
   "cell_type": "code",
   "execution_count": 26,
   "metadata": {},
   "outputs": [],
   "source": [
    "data_et_inv = pd.read_excel(ruta_input / 'rep_et_de_aprob.xlsx', sheet_name=\"SQL Results\")"
   ]
  },
  {
   "cell_type": "code",
   "execution_count": 27,
   "metadata": {},
   "outputs": [],
   "source": [
    "#Fecha de parobación de expediente\n",
    "data_et_inv['FEC_APROBACION'] = pd.to_datetime(data_et_inv['FEC_APROBACION'],errors=\"coerce\" ).dt.normalize() \n",
    "data_et_inv_por_cod=data_et_inv[['CODIGO_UNICO','FEC_APROBACION']].groupby(by=['CODIGO_UNICO'], as_index=False).max()"
   ]
  },
  {
   "attachments": {},
   "cell_type": "markdown",
   "metadata": {},
   "source": [
    "### 3.4 Base de cierre de brechas (rep_inv_brechas)"
   ]
  },
  {
   "cell_type": "code",
   "execution_count": 28,
   "metadata": {},
   "outputs": [],
   "source": [
    "data_cierre_brech_inv = pd.read_excel(ruta_input / 'rep_inv_brechas.xlsx', sheet_name=\"SQL Results\")"
   ]
  },
  {
   "attachments": {},
   "cell_type": "markdown",
   "metadata": {},
   "source": [
    "### 3.5 Base SEACE de inversiones (repinv_seace)"
   ]
  },
  {
   "cell_type": "code",
   "execution_count": 29,
   "metadata": {},
   "outputs": [],
   "source": [
    "data_seace_inv = pd.read_excel(ruta_input / 'repinv_seace.xlsx', sheet_name=\"SQL Results\")"
   ]
  },
  {
   "attachments": {},
   "cell_type": "markdown",
   "metadata": {},
   "source": [
    "### 3.6 Base inversiones formato 8 (rep_f8_et_activid, rep_f8_et_detalle, rep_f8_et_mto_cronog)"
   ]
  },
  {
   "cell_type": "code",
   "execution_count": 30,
   "metadata": {},
   "outputs": [],
   "source": [
    "data_f8_activ_inv = pd.read_excel(ruta_input / 'rep_f8_et_activid.xlsx', sheet_name=\"SQL Results\")"
   ]
  },
  {
   "cell_type": "code",
   "execution_count": 31,
   "metadata": {},
   "outputs": [],
   "source": [
    "data_f8_detall_inv = pd.read_excel(ruta_input / 'rep_f8_et_detalle.xlsx', sheet_name=\"SQL Results\")"
   ]
  },
  {
   "cell_type": "code",
   "execution_count": 32,
   "metadata": {},
   "outputs": [],
   "source": [
    "#Remplazo algunas inconsistencias que puedan existir en la base\n",
    "data_f8_detall_inv.loc[data_f8_detall_inv['COSTO_INVERSION'].isnull(),'COSTO_INVERSION']=0\n",
    "data_f8_detall_inv.loc[data_f8_detall_inv['COSTO_INVERSION']<0,'COSTO_INVERSION']=0"
   ]
  },
  {
   "cell_type": "code",
   "execution_count": 33,
   "metadata": {},
   "outputs": [],
   "source": [
    "data_f8_cronog_inv = pd.read_excel(ruta_input / 'rep_f8_et_mto_cronog.xlsx', sheet_name=\"SQL Results\")"
   ]
  },
  {
   "attachments": {},
   "cell_type": "markdown",
   "metadata": {},
   "source": [
    "## 4. Estimación de indicadores"
   ]
  },
  {
   "attachments": {},
   "cell_type": "markdown",
   "metadata": {},
   "source": [
    "### Indicador **PRG01**: Porcentaje de inversiones no previstas de la cartera"
   ]
  },
  {
   "cell_type": "code",
   "execution_count": 34,
   "metadata": {},
   "outputs": [],
   "source": [
    "# Exportando la base\n",
    "writer = pd.ExcelWriter(ruta_output / 'base_por_indicador.xlsx')"
   ]
  },
  {
   "cell_type": "code",
   "execution_count": 35,
   "metadata": {},
   "outputs": [],
   "source": [
    "# Inversiones de cartera\n",
    "data_inversiones.loc[((data_inversiones.REG_CART_PMI_2019==\"SI\") ) , 'PMI_1']=1\n",
    "data_inversiones.loc[((data_inversiones.REG_CART_PMI_2020==\"SI\") ) , 'PMI_2']=1\n",
    "data_inversiones.loc[((data_inversiones.REG_CART_PMI_2021==\"SI\") ) , 'PMI_3']=1\n",
    "data_inversiones.loc[((data_inversiones.REG_CART_PMI_2022==\"SI\")  ) , 'PMI_4']=1\n",
    "\n",
    "# Inversiones que no son \"No previstas\"\n",
    "data_inversiones.loc[((data_inversiones.REG_CART_PMI_2019==\"SI\") & (data_inversiones.NO_PREVISTA_2019==\"NO\") ) , 'PMI_1_PREVISTAS']=1\n",
    "data_inversiones.loc[((data_inversiones.REG_CART_PMI_2020==\"SI\") & (data_inversiones.NO_PREVISTA_2020==\"NO\") ) , 'PMI_2_PREVISTAS']=1\n",
    "data_inversiones.loc[((data_inversiones.REG_CART_PMI_2021==\"SI\") & (data_inversiones.NO_PREVISTA_2021==\"NO\") ) , 'PMI_3_PREVISTAS']=1\n",
    "data_inversiones.loc[((data_inversiones.REG_CART_PMI_2022==\"SI\") & (data_inversiones.NO_PREVISTA_2022==\"NO\") ) , 'PMI_4_PREVISTAS']=1"
   ]
  },
  {
   "cell_type": "code",
   "execution_count": 36,
   "metadata": {},
   "outputs": [],
   "source": [
    "# Para la Municipalidad del ámbito de intervención\n",
    "#data_prov_tocache =data_inversiones.loc[(data_inversiones['id_ambito']=='ProvTocache')]\n",
    "data_prov=data_inversiones.drop_duplicates(['CODIGO_SNIP'], keep='first') \n",
    "\n",
    "#Data intermedía\n",
    "data_prov_ind1=data_prov.copy()\n",
    "data_prov_ind1=data_prov_ind1[['CODIGO_UNICO','CODIGO_SNIP','NOMBRE_INVERSION', 'NIVEL', 'SECTOR','ENTIDAD','id_ambito','FECHA_REGI', 'FECHA_VIAB',\n",
    "'MONTO_VIABLE', 'COSTO_ACTUALIZADO','FUNCION','PROGRAMA','SUBPROGRAM', 'ESTADO', 'SITUACION', 'ULT_ESTU', 'ESTD_ESTU',\n",
    "'DEVENGADO_ACUMULADO', 'DEV_AÑO_ACTUAL', 'DEPARTAMENTO', 'PROVINCIA', 'DISTRITO', 'UBIGEO', 'NIVREQVIAB', 'MARCO', \n",
    "'DES_TIPO_FORMATO', 'DES_TIPOLOGIA', 'ET_REGISTRADO', 'MTO_EXP_TCO', 'REG_CART_PMI_2023', 'REG_CART_PMI_2022', \n",
    "'REG_CART_PMI_2021', 'REG_CART_PMI_2020', 'REG_CART_PMI_2019', 'MTO_PMI_2023', 'MTO_PMI_2022', 'MTO_PMI_2021', 'MTO_PMI_2020',\n",
    "'MTO_PMI_2019', 'PIM_2023', 'PIM_2022', 'PIM_2021', 'PIM_2020', 'PIM_2019', 'DEVEN_2023', 'DEVEN_2022', 'DEVEN_2021', 'DEVEN_2020'\n",
    ", 'DEVEN_2019', 'NO_PREVISTA_2023', 'NO_PREVISTA_2022', 'NO_PREVISTA_2021', 'NO_PREVISTA_2020', 'NO_PREVISTA_2019'\n",
    ", 'ULT_PROBLEMA', 'DES_ULT_PROBLEMA', 'ACC_PROBLEMA', 'NUM_POSTORES', 'INFORME_CIERRE', 'FEC_CIERRE', 'DES_CIERRE','TIENE_F9'\n",
    ", 'FEC_REG_F9', 'FEC_ULT_MODIF_F9', 'SECCION_F9', 'ESTA_CULMINADA', 'ESTA_FUNCIONAMIENTO', 'FEC_LIQUIDACION','FEC_PRELIQUIDACION',\n",
    "'LIQUIDACION_OFICIO','PMI_1', 'PMI_2', 'PMI_3','PMI_4','PMI_1_PREVISTAS','PMI_2_PREVISTAS','PMI_3_PREVISTAS',\n",
    "'PMI_4_PREVISTAS']]\n",
    "\n",
    "data_prov=data_prov[[\"PMI_2\",\"PMI_2_PREVISTAS\",\"PMI_3\",\"PMI_3_PREVISTAS\",\"PMI_4\",\"PMI_4_PREVISTAS\",\"ENTIDAD\",\"id_ambito\"]].groupby(by=['ENTIDAD', 'id_ambito'],as_index=False).sum()\n",
    "\n",
    "#data_prov['PRG01_1']=data_prov['PMI_1_PREVISTAS']/data_prov['PMI_1']\n",
    "data_prov['PRG01_2']=data_prov['PMI_2_PREVISTAS']/data_prov['PMI_2']\n",
    "data_prov['PRG01_3']=data_prov['PMI_3_PREVISTAS']/data_prov['PMI_3']\n",
    "data_prov['PRG01_4']=data_prov['PMI_4_PREVISTAS']/data_prov['PMI_4']\n",
    "\n",
    "data_prov['PRG01_PROM']=(data_prov['PRG01_2']+data_prov['PRG01_3']+data_prov['PRG01_4'])/(3)\n",
    "\n",
    "# Exportando la base\n",
    "#writer = pd.ExcelWriter(ruta_output / 'indicadores_1.xlsx')\n",
    "data_prov.to_excel(writer, sheet_name='PRG01' , index= False)\n",
    "data_prov_1=data_prov.copy()\n",
    "#writer.save()\n",
    "#writer.close()"
   ]
  },
  {
   "attachments": {},
   "cell_type": "markdown",
   "metadata": {},
   "source": [
    "### Indicador **PRG02**: Consistencia del monto programado en el PMI respecto al PIM || **PRG03**:Consistencia del monto programado en el PMI respecto al devengado"
   ]
  },
  {
   "cell_type": "code",
   "execution_count": 37,
   "metadata": {},
   "outputs": [],
   "source": [
    "# Inversiones no duplicadas y con codigo único\n",
    "data_prov=data_inversiones.drop_duplicates(['CODIGO_SNIP'], keep='first') \n",
    "data_prov =data_prov.loc[~(data_prov['CODIGO_UNICO'].isnull())]\n",
    "\n",
    "# Generamos el monto programado, pim y devengado de la cartera\n",
    "data_prov['MONTO_PROGRAMADO'] = 0        \n",
    "data_prov.loc[data_prov['REG_CART_PMI_2020']==\"SI\", 'MONTO_PROGRAMADO']=data_prov['MTO_PMI_2020']+data_prov['MTO_PMI_2021']+data_prov['MTO_PMI_2022']\n",
    "data_prov['MONTO_PIM'] =0\n",
    "data_prov.loc[data_prov['REG_CART_PMI_2020']==\"SI\", 'MONTO_PIM']=data_prov['PIM_2020']+data_prov['PIM_2021']+data_prov['PIM_2022']\n",
    "data_prov['MONTO_DEVENGADO'] = 0\n",
    "data_prov.loc[data_prov['REG_CART_PMI_2020']==\"SI\", 'MONTO_DEVENGADO']=data_prov['DEVEN_2020']+data_prov['DEVEN_2021']+data_prov['DEVEN_2022']\n",
    "\n",
    "data_prov_ind2_3=data_prov.copy()\n",
    "data_prov_ind2_3=data_prov_ind2_3[['CODIGO_SNIP','MONTO_PROGRAMADO', 'MONTO_PIM','MONTO_DEVENGADO']]\n",
    "\n",
    "data_prov=data_prov[[\"MONTO_PROGRAMADO\",\"MONTO_PIM\",\"MONTO_DEVENGADO\",\"ENTIDAD\",\"id_ambito\"]].groupby(by=['ENTIDAD', 'id_ambito'],as_index=False).sum()\n",
    "\n",
    "# Estimacion de los indicadores\n",
    "data_prov['PRG02']=data_prov['MONTO_PIM']/data_prov['MONTO_PROGRAMADO']\n",
    "data_prov.loc[data_prov['PRG02']>1, 'PRG02']=0  # Si es mayor a cero indicamos que es cero\n",
    "\n",
    "data_prov['PRG03']=data_prov['MONTO_DEVENGADO']/data_prov['MONTO_PROGRAMADO']\n",
    "data_prov.loc[data_prov['PRG03']>1, 'PRG03']=0  # Si es mayor a cero indicamos que es cero\n",
    "\n",
    "# Exportando la base\n",
    "#writer = pd.ExcelWriter(ruta_output / 'indicadores_2.xlsx')\n",
    "data_prov.to_excel(writer, sheet_name='PRG02_PRG03' , index= False)\n",
    "data_prov_2_3=data_prov.copy()\n",
    "#writer.save()\n",
    "#writer.close()"
   ]
  },
  {
   "attachments": {},
   "cell_type": "markdown",
   "metadata": {},
   "source": [
    "### Indicador PRG04: Porcentaje de Inversiones con registro en Cierre de brecha"
   ]
  },
  {
   "cell_type": "code",
   "execution_count": 38,
   "metadata": {},
   "outputs": [],
   "source": [
    "# Identificando la cantidad de inversiones totales entre el 2012-2022\n",
    "data_prov=data_inversiones.loc[(data_inversiones['SITUACION']==\"VIABLE\") | (data_inversiones['SITUACION']==\"APROBADO\")]     \n",
    "data_prov=data_prov.drop_duplicates(['CODIGO_SNIP'], keep='first')\n",
    "#data_prov=data_prov.loc[~(data_prov['CODIGO_UNICO'].isnull())]  # Inversiones que cuentan con código único\n",
    "data_prov[\"id_inversion\"]=1\n",
    "\n",
    "#Inversiones entre el 2012 y 2022\n",
    "data_prov=data_prov.loc[(data_prov['año']>=2012) & (data_prov['año']<=2022)]  #Inversiones entre el 2017 y 2022\n",
    "data_prov=data_prov.loc[data_prov['MARCO']=='INVIERTE']  #Inversiones en el marco del \"INVIERTE\""
   ]
  },
  {
   "cell_type": "code",
   "execution_count": 39,
   "metadata": {},
   "outputs": [],
   "source": [
    "# Construindo las inversiones que cuentan con valor de cierre de brecha\n",
    "data_cierre_brech_inv[\"id_brecha\"]=0\n",
    "data_cierre_brech_inv.loc[data_cierre_brech_inv.VAL_CIERRE_BRECHA>0, 'id_brecha']=1\n",
    "\n",
    "data_cierre_brech_inv=data_cierre_brech_inv[[\"id_brecha\",\"CODIGO_UNICO\"]].groupby(by=['CODIGO_UNICO'],as_index=False).sum()\n",
    "data_cierre_brech_inv.loc[data_cierre_brech_inv.id_brecha>0, 'id_brecha']=1"
   ]
  },
  {
   "cell_type": "code",
   "execution_count": 40,
   "metadata": {},
   "outputs": [],
   "source": [
    "#Join\n",
    "data_prov_union=data_prov.merge(right = data_cierre_brech_inv, how=\"left\", on=[\"CODIGO_UNICO\"] )\n",
    "data_prov_union.loc[(data_prov_union['id_brecha'].isnull()),'id_brecha']=0 \n",
    "\n",
    "#import previo\n",
    "data_prov_ind4=data_prov_union.copy()\n",
    "data_prov_ind4=data_prov_ind4[['CODIGO_SNIP','id_brecha','id_inversion']]\n",
    "\n",
    "data_prov_union=data_prov_union[[\"id_ambito\",\"ENTIDAD\",\"id_brecha\",\"id_inversion\"]].groupby(by=['ENTIDAD', 'id_ambito'],as_index=False).sum()\n",
    "\n",
    "# Estimacion de los indicadores\n",
    "data_prov_union['PRG04']=data_prov_union['id_brecha']/data_prov_union['id_inversion']"
   ]
  },
  {
   "cell_type": "code",
   "execution_count": 41,
   "metadata": {},
   "outputs": [],
   "source": [
    "#Exportando resultado\n",
    "#writer = pd.ExcelWriter(ruta_output / 'indicadores_4.xlsx')\n",
    "data_prov_union.to_excel(writer, sheet_name='PRG04' , index= False)\n",
    "data_prov_union_4=data_prov_union.copy()\n",
    "#writer.save()\n",
    "#writer.close()"
   ]
  },
  {
   "attachments": {},
   "cell_type": "markdown",
   "metadata": {},
   "source": [
    "### Indicador **FORM01**: Razonabilidad de la estimación del costo de inversión en la formulación, **FORM02**: Razonabilidad del periodo de formulación de la inversión, **EJEC01**:N° de Inversiones viables cuyo devengado es mayor que cero, **EJEC02**:Devengado acumulado de las inversiones respecto de sus costos de inversión a nivel de viabilidad, **EJEC03**: Porcentaje de inversiones en las que la elaboración del ET toma menos de un año, **EJEC04**:Avance en la ejecución financiera de las inversiones declaradas viables, **EJEC05**:Porcentaje de inversiones en ejecución que no tienen observaciones de la Contraloría General de la República  (CGR).  "
   ]
  },
  {
   "cell_type": "code",
   "execution_count": 42,
   "metadata": {},
   "outputs": [],
   "source": [
    "# Identificando la cantidad de inversiones totales entre el 2012-2022\n",
    "data_prov=data_inversiones.loc[(data_inversiones['SITUACION']==\"VIABLE\") | (data_inversiones['SITUACION']==\"APROBADO\")]     \n",
    "data_prov=data_prov.drop_duplicates(['CODIGO_SNIP'], keep='first')\n",
    "#data_prov=data_prov.loc[~(data_prov['CODIGO_UNICO'].isnull())]  # Inversiones que cuentan con código único\n",
    "#data_prov[\"id_inversion\"]=1\n",
    "\n",
    "#Inversiones entre el 2012 y 2022\n",
    "data_prov=data_prov.loc[(data_prov['año']>=2012) & (data_prov['año']<=2022)]  #Inversiones entre el 2012 y 2022"
   ]
  },
  {
   "cell_type": "code",
   "execution_count": 43,
   "metadata": {},
   "outputs": [],
   "source": [
    "#Diferenciando la fecha de viabilidad y registro\n",
    "data_prov['DIF_FECHA']= data_prov['FECHA_VIAB'] - data_prov['FECHA_REGI']\n",
    "#data_prov['DIF_FECHA']= data_prov['DIF_FECHA'].dt.strftime\n",
    "#data_prov['DIF_FECHA']= data_prov['DIF_FECHA'].astype(float)"
   ]
  },
  {
   "cell_type": "code",
   "execution_count": 44,
   "metadata": {},
   "outputs": [],
   "source": [
    "# Estimando los días\n",
    "data_prov['DIF_FECHA']= data_prov['DIF_FECHA'].dt.total_seconds()/(60*24*60)\n",
    "data_prov['DIF_FECHA']= data_prov['DIF_FECHA'].astype(str)\n",
    "data_prov['DIF_FECHA']= data_prov['DIF_FECHA'].astype(float)"
   ]
  },
  {
   "cell_type": "code",
   "execution_count": 45,
   "metadata": {},
   "outputs": [],
   "source": [
    "#Identificando el tipo de formato:DES_TIPO_FORMATO\n",
    "data_prov[\"FORMATO\"]=\"Otros\"\n",
    "data_prov.loc[(data_prov['ULT_ESTU']==\"FICHA TÉCNICA SIMPLIFICADA\"),\"FORMATO\"]=\"FTS\" \n",
    "data_prov.loc[(data_prov['ULT_ESTU']==\"FICHA TÉCNICA ESTANDAR\"),\"FORMATO\"]=\"FTE\" \n",
    "data_prov.loc[(data_prov['ULT_ESTU']==\"FICHA TECNICA DE  BAJA Y MEDIANA COMPLEJIDAD\"),\"FORMATO\"]=\"FTBMC\" \n",
    "data_prov.loc[(data_prov['ULT_ESTU']==\"PERFIL\"),\"FORMATO\"]=\"PERFIL\" \n",
    "data_prov.loc[(data_prov['DES_TIPO_FORMATO']==\"INVERSIONES IOARR\"),\"FORMATO\"]=\"IOARR\" \n",
    "data_prov.loc[(data_prov['DES_TIPO_FORMATO']==\"INTERVENCIONES IRI\"),\"FORMATO\"]=\"IRI\" "
   ]
  },
  {
   "cell_type": "code",
   "execution_count": 46,
   "metadata": {},
   "outputs": [],
   "source": [
    "#Identificando inversiones viables entre 2012-2022 con devengado acumulado mayor acero\n",
    "data_prov['id_FORM01_D']=0\n",
    "data_prov.loc[(data_prov['DEVENGADO_ACUMULADO']>0),\"id_FORM01_D\"]=1\n",
    "\n",
    "#Identificando inversiones viables entre 2012-2022\n",
    "data_prov['id_FORM02_D']=1\n",
    "#data_prov.loc[(data_prov['DEVENGADO_ACUMULADO']>0),\"id_FORM02_D\"]=1\n",
    "\n",
    "#Identificando inversiones viables entre 2012-2022\n",
    "data_prov['id_EJEC01_D']=1\n",
    "\n",
    "#Identificando inversiones viables entre 2012-2022 con devengado acumulado\n",
    "data_prov['id_EJEC02_D']=data_prov['COSTO_ACTUALIZADO']\n",
    "#Identificando inversiones y su PIM (2022)\n",
    "data_prov['id_EJEC04_D']=data_prov['PIM_2022']\n",
    "\n",
    "#Identificando inversiones y su PIM (2022)\n",
    "data_prov['id_EJEC05_D']=0\n",
    "data_prov.loc[(data_prov['DEVENGADO_ACUMULADO']>0),\"id_EJEC05_D\"]=1\n"
   ]
  },
  {
   "cell_type": "code",
   "execution_count": 47,
   "metadata": {},
   "outputs": [],
   "source": [
    "#Identifico el todal de inversiones viables y que cuenten con devengado mayor a ceron entre 2012-2022, donde:  DEVENGADO_ACUMULADO<=MONTO_VIABLE \n",
    "data_prov['id_FORM01_N']=0\n",
    "data_prov.loc[((data_prov['DEVENGADO_ACUMULADO']>0) & (data_prov['DEVENGADO_ACUMULADO']<=data_prov['MONTO_VIABLE'])),\"id_FORM01_N\"]=1\n",
    "\n",
    "\n",
    "# Inversiones que cumplen el siguiente criterio:\n",
    "'''\n",
    "El tiempo esperado de declaración de viabilidad de una inversión es fijado a través del tipo de formato al que corresponde. De tal forma:\n",
    "-Si se trata de una inversión IOARR, el periodo debería ser entre 15 días y 1 mes.\n",
    "-Si se trata de una intervención IRI, el periodo debería ser entre 0 días y 6 meses.\n",
    "-Si se trata de una Ficha Técnica Simplificada, el periodo debería ser entre 1 mes y 2 meses.\n",
    "-Si se trata de una Ficha Técnica Estándar, el periodo debería ser entre 3 meses y 6 meses.\n",
    "-Si se trata de una Ficha Técnica Baja y Mediana Complejidad, el periodo debería ser entre 3 meses y 6 meses.\n",
    "-Si se trata de un Perfil, el periodo debería ser entre 4 meses y 12 meses.\n",
    "-Si se trata de Otros formatos, el periodo debería ser entre 4 meses y 12 meses.\n",
    "'''\n",
    "\n",
    "# Identificado la razonabilidad entre la fecha de viabilidad y fecha de registro\n",
    "data_prov['id_FORM02_N']=0\n",
    "data_prov.loc[(((data_prov['DIF_FECHA']>0) & (data_prov['DIF_FECHA']<=30)) & (data_prov['FORMATO']==\"IOARR\")),\"id_FORM02_N\"]=1\n",
    "data_prov.loc[(((data_prov['DIF_FECHA']>0) & (data_prov['DIF_FECHA']<=30*6)) & (data_prov['FORMATO']==\"IRI\")),\"id_FORM02_N\"]=1\n",
    "data_prov.loc[(((data_prov['DIF_FECHA']>=1*30) & (data_prov['DIF_FECHA']<=2*30)) & (data_prov['FORMATO']==\"FTS\")),\"id_FORM02_N\"]=1\n",
    "data_prov.loc[(((data_prov['DIF_FECHA']>=3*30) & (data_prov['DIF_FECHA']<=6*30)) & (data_prov['FORMATO']==\"FTE\")),\"id_FORM02_N\"]=1\n",
    "data_prov.loc[(((data_prov['DIF_FECHA']>=3*30) & (data_prov['DIF_FECHA']<=6*30)) & (data_prov['FORMATO']==\"FTBMC\")),\"id_FORM02_N\"]=1\n",
    "data_prov.loc[(((data_prov['DIF_FECHA']>=4*30) & (data_prov['DIF_FECHA']<=12*30)) & (data_prov['FORMATO']==\"PERFIL\")),\"id_FORM02_N\"]=1\n",
    "data_prov.loc[(((data_prov['DIF_FECHA']>=4*30) & (data_prov['DIF_FECHA']<=12*30)) & (data_prov['FORMATO']==\"Otros\")),\"id_FORM02_N\"]=1\n",
    "\n",
    "#Identificando inversiones viables entre 2012-2022 con devengado acumulado mayor acero\n",
    "data_prov['id_EJEC01_N']=0\n",
    "data_prov.loc[(data_prov['DEVENGADO_ACUMULADO']>0),\"id_EJEC01_N\"]=1\n",
    "\n",
    "#Identificando inversiones viables entre 2012-2022 con devengado acumulado\n",
    "data_prov['id_EJEC02_N']=data_prov['DEVENGADO_ACUMULADO']\n",
    "\n",
    "#Identificando inversiones y su devengado (2022)\n",
    "data_prov['id_EJEC04_N']=data_prov['DEVEN_2022']\n",
    "\n",
    "#Identificando inversiones que no presentan observaciones de la contraloría\n",
    "data_prov['id_EJEC05_N']=1\n",
    "data_prov.loc[((data_prov['PROBLEMA']=='SUPERVISOR/INSPECTOR') | (data_prov['PROBLEMA']=='RIESGO NO IDENTIFICADO')|(data_prov['PROBLEMA']=='RESOLUCIÓN DE CONVENIO')\n",
    "|(data_prov['PROBLEMA']=='RESOLUCIÓN DE CONTRATO')|(data_prov['PROBLEMA']=='RECEPCIÓN OBSERVADA')|(data_prov['PROBLEMA']=='PERMISOS Y LICENCIAS')\n",
    "|(data_prov['PROBLEMA']=='OTRO')|(data_prov['PROBLEMA']=='OTRAS AUTORIZACIONES')|(data_prov['PROBLEMA']=='MODIFICACIONES EN CALENDARIO DE PROCEDIMIENTO DE SELECCIÓN')\n",
    "|(data_prov['PROBLEMA']=='INTERFERENCIAS')|(data_prov['PROBLEMA']=='FALTA DE RECURSOS FINANCIEROS')|(data_prov['PROBLEMA']=='FALTA DE DISPONIBILIDAD DE TERRENO')\n",
    "|(data_prov['PROBLEMA']=='DISCREPANCIAS (VALORIZACIÓN OBSERVADA, ETC.)') |(data_prov['PROBLEMA']=='ATRASOS Y/O PARALIZACIONES')|(data_prov['PROBLEMA']=='ARBITRAJE')),\"id_EJEC05_N\"]=0\n",
    "\n",
    "data_prov.loc[(data_prov['DEVENGADO_ACUMULADO']<=0), 'id_EJEC05_N']=0 \n",
    "\n",
    "data_prov_ind1_2_1_2_4_5=data_prov.copy()\n",
    "data_prov_ind1_2_1_2_4_5=data_prov_ind1_2_1_2_4_5[['CODIGO_SNIP',\"id_FORM01_N\",\"id_FORM01_D\",\"id_FORM02_D\",'id_FORM02_N','id_EJEC01_N','id_EJEC01_D','id_EJEC02_N','id_EJEC02_D',\n",
    "'id_EJEC04_N','id_EJEC04_D','id_EJEC05_N','id_EJEC05_D']]"
   ]
  },
  {
   "cell_type": "code",
   "execution_count": 48,
   "metadata": {},
   "outputs": [],
   "source": [
    "# Collapsando\n",
    "data_prov=data_prov[[\"id_ambito\",\"ENTIDAD\",\"id_FORM01_N\",\"id_FORM01_D\",\"id_FORM02_D\",'id_FORM02_N','id_EJEC01_N','id_EJEC01_D','id_EJEC02_N','id_EJEC02_D',\n",
    "'id_EJEC04_N','id_EJEC04_D','id_EJEC05_N','id_EJEC05_D']].groupby(by=['ENTIDAD', 'id_ambito'],as_index=False).sum()"
   ]
  },
  {
   "cell_type": "code",
   "execution_count": 49,
   "metadata": {},
   "outputs": [],
   "source": [
    "# Estimacion de los indicadores\n",
    "data_prov['FORM01']=data_prov['id_FORM01_N']/data_prov['id_FORM01_D']\n",
    "data_prov['FORM02']=data_prov['id_FORM02_N']/data_prov['id_FORM02_D']\n",
    "data_prov['EJEC01']=data_prov['id_EJEC01_N']/data_prov['id_EJEC01_D']\n",
    "data_prov['EJEC02']=data_prov['id_EJEC02_N']/data_prov['id_EJEC02_D']\n",
    "data_prov['EJEC04']=data_prov['id_EJEC04_N']/data_prov['id_EJEC04_D']\n",
    "data_prov['EJEC05']=data_prov['id_EJEC05_N']/data_prov['id_EJEC05_D']\n"
   ]
  },
  {
   "cell_type": "code",
   "execution_count": 50,
   "metadata": {},
   "outputs": [],
   "source": [
    "#Exportando resultado\n",
    "#writer = pd.ExcelWriter(ruta_output / 'indicadores_5.xlsx')\n",
    "data_prov.to_excel(writer, sheet_name='FORM01_02_EJEC01_02_03_04_05' , index= False)\n",
    "data_prov_1_2_1_2_4_5=data_prov.copy()\n",
    "#writer.save()\n",
    "#writer.close()"
   ]
  },
  {
   "attachments": {},
   "cell_type": "markdown",
   "metadata": {},
   "source": [
    "### Indicador EJEC03: Porcentaje de inversiones en las que la elaboración del ET toma menos de un año "
   ]
  },
  {
   "cell_type": "code",
   "execution_count": 51,
   "metadata": {},
   "outputs": [],
   "source": [
    "# Identificando la cantidad de inversiones viables totales entre el 2012-2022\n",
    "data_prov=data_inversiones.loc[(data_inversiones['SITUACION']==\"VIABLE\")  | (data_inversiones['SITUACION']==\"APROBADO\")]     \n",
    "data_prov=data_prov.drop_duplicates(['CODIGO_SNIP'], keep='first')\n",
    "\n",
    "#Inversiones entre el 2012 y 2022\n",
    "data_prov=data_prov.loc[(data_prov['año']>=2012) & (data_prov['año']<=2022)]  #Inversiones entre el 2012 y 2022"
   ]
  },
  {
   "cell_type": "code",
   "execution_count": 52,
   "metadata": {},
   "outputs": [],
   "source": [
    "# join con la base fecha de expedientes tecnicos\n",
    "data_et_inv_union=data_prov.merge(right=data_et_inv_por_cod, how='left',on=[\"CODIGO_UNICO\"])\n"
   ]
  },
  {
   "cell_type": "code",
   "execution_count": 53,
   "metadata": {},
   "outputs": [],
   "source": [
    "#diferenciando la fecha de aprobacion del ET (FEC_APROBACION) y la fecha de viabilidad de la inversión (FECHA_VIAB)\n",
    "data_et_inv_union['DIF_FECHA_ET']=data_et_inv_union['FEC_APROBACION'] - data_et_inv_union['FECHA_VIAB']\n",
    "\n",
    "# Estimando los días\n",
    "data_et_inv_union['DIF_FECHA_ET']= data_et_inv_union['DIF_FECHA_ET'].dt.total_seconds()/(60*24*60)\n",
    "data_et_inv_union['DIF_FECHA_ET']= data_et_inv_union['DIF_FECHA_ET'].astype(str)\n",
    "data_et_inv_union['DIF_FECHA_ET']= data_et_inv_union['DIF_FECHA_ET'].astype(float)\n"
   ]
  },
  {
   "cell_type": "code",
   "execution_count": 54,
   "metadata": {},
   "outputs": [],
   "source": [
    "#Creando el indicador\n",
    "\n",
    "#Numerador\n",
    "data_et_inv_union['id_EJEC03_N']=0\n",
    "data_et_inv_union.loc[(data_et_inv_union['DIF_FECHA_ET']>=0) & (data_et_inv_union['DIF_FECHA_ET']<=365),'id_EJEC03_N' ]=1\n",
    "\n",
    "#Denominador\n",
    "data_et_inv_union['id_EJEC03_D']=1  #Todas las inversiones de esta base son viables\n",
    "\n",
    "#Base preliminar\n",
    "data_et_inv_union_ind3=data_et_inv_union.copy()\n",
    "data_et_inv_union_ind3=data_et_inv_union_ind3[['CODIGO_SNIP',\"id_EJEC03_N\",\"id_EJEC03_D\"]]"
   ]
  },
  {
   "cell_type": "code",
   "execution_count": 55,
   "metadata": {},
   "outputs": [],
   "source": [
    "#Collapsando\n",
    "data_et_inv_collapse=data_et_inv_union[[\"id_ambito\",\"ENTIDAD\",\"id_EJEC03_N\",\"id_EJEC03_D\"]].groupby(by=['ENTIDAD', 'id_ambito'],as_index=False).sum()"
   ]
  },
  {
   "cell_type": "code",
   "execution_count": 56,
   "metadata": {},
   "outputs": [],
   "source": [
    "#Indicador\n",
    "data_et_inv_collapse['EJEC03']=data_et_inv_collapse['id_EJEC03_N']/data_et_inv_collapse['id_EJEC03_D']"
   ]
  },
  {
   "cell_type": "code",
   "execution_count": 57,
   "metadata": {},
   "outputs": [],
   "source": [
    "#Exportando resultado\n",
    "#writer = pd.ExcelWriter(ruta_output / 'indicadores_6.xlsx')\n",
    "data_et_inv_collapse.to_excel(writer, sheet_name='EJEC03' , index= False)\n",
    "data_et_inv_collapse_3=data_et_inv_collapse.copy()\n",
    "#writer.save()\n",
    "#writer.close()"
   ]
  },
  {
   "attachments": {},
   "cell_type": "markdown",
   "metadata": {},
   "source": [
    "### **EJEC06**: Razonabilidad del periodo de ejecución de una inversión"
   ]
  },
  {
   "cell_type": "code",
   "execution_count": 58,
   "metadata": {},
   "outputs": [],
   "source": [
    "# Identificando la cantidad de inversiones viables totales entre el 2012-2022\n",
    "data_prov=data_inversiones.loc[(data_inversiones['SITUACION']==\"VIABLE\")]      #| (data_inversiones['SITUACION']==\"APROBADO\")\n",
    "data_prov=data_prov.drop_duplicates(['CODIGO_SNIP'], keep='first')\n",
    "\n",
    "#Inversiones entre el 2012 y 2022\n",
    "data_prov=data_prov.loc[(data_prov['año']>=2012) & (data_prov['año']<=2022)]  #Inversiones entre el 2012 y 2022"
   ]
  },
  {
   "cell_type": "code",
   "execution_count": 59,
   "metadata": {},
   "outputs": [],
   "source": [
    "# collapse\n",
    "data_ejecucion_inv_1= data_ejecucion_inv[['CODIGO_UNICO','FECHA_EJEC']].groupby(by=['CODIGO_UNICO']).max()\n",
    "data_ejecucion_inv_2= data_ejecucion_inv[['CODIGO_UNICO','FECHA_EJEC']].groupby(by=['CODIGO_UNICO']).min()\n",
    "data_ejecucion_final=data_ejecucion_inv_1.merge(right=data_ejecucion_inv_2, how=\"outer\", on=[\"CODIGO_UNICO\"] )\n"
   ]
  },
  {
   "cell_type": "code",
   "execution_count": 60,
   "metadata": {},
   "outputs": [],
   "source": [
    "# join con la base de inversiones totales\n",
    "data_prov_final=data_prov.merge(right=data_ejecucion_final, how=\"left\", on=[\"CODIGO_UNICO\"])"
   ]
  },
  {
   "cell_type": "code",
   "execution_count": 61,
   "metadata": {},
   "outputs": [],
   "source": [
    "# Creando variables para el indicador\n",
    "# max: FECHA_EJEC_x\n",
    "# min: FECHA_EJEC_y\n",
    "data_prov_final['DIF_FECHA_EJECUCION']=data_prov_final['FECHA_EJEC_x'] - data_prov_final['FECHA_EJEC_y']\n",
    "\n",
    "# Estimando los días\n",
    "data_prov_final['DIF_FECHA_EJECUCION']= data_prov_final['DIF_FECHA_EJECUCION'].dt.total_seconds()/(60*24*60)\n",
    "data_prov_final['DIF_FECHA_EJECUCION']= data_prov_final['DIF_FECHA_EJECUCION'].astype(str)\n",
    "data_prov_final['DIF_FECHA_EJECUCION']= data_prov_final['DIF_FECHA_EJECUCION'].astype(float)"
   ]
  },
  {
   "cell_type": "code",
   "execution_count": 62,
   "metadata": {},
   "outputs": [],
   "source": [
    "# variables para el indicador\n",
    "'''\n",
    "El tiempo esperado de ejecución de una inversión es fijado a través de su costo de inversión (a nivel de viabilidad). De tal forma:\n",
    "\n",
    "- Si una inversión tiene un costo de S/.1,000 millones o superior, se esperaría que se ejecute en no más de 5 años.\n",
    "- Si una inversión tiene un costo entre S/. 600 millones y S/.1,000 millones, se esperaría que se ejecute en no más de 4 años\n",
    "- Si una inversión tiene un costo entre S/.300 millones y S/.600 millones, se esperaría que se ejecute en no más de 3 años\n",
    "- Si una inversión tiene un costo entre S/.50 millones y S/.300 millones, se esperaría que se ejecute en no más de 2 años\n",
    "- Si una inversión tiene un costo menor a S/.50 millones, se esperaría que se ejecute en no más de 1 año\n",
    "'''\n",
    "# Numerado\n",
    "data_prov_final['id_EJEC06_N']=0\n",
    "data_prov_final.loc[(data_prov_final['MONTO_VIABLE']>=1000*1000000) & ((data_prov_final['DIF_FECHA_EJECUCION']>0) & (data_prov_final['DIF_FECHA_EJECUCION']<=5*365) & (data_prov_final['DEVENGADO_ACUMULADO']>0)  ),'id_EJEC06_N' ]=1\n",
    "data_prov_final.loc[((data_prov_final['MONTO_VIABLE']>=600*1000000) & (data_prov_final['MONTO_VIABLE']<1000*1000000)) & ((data_prov_final['DIF_FECHA_EJECUCION']>0) & (data_prov_final['DIF_FECHA_EJECUCION']<=4*365)) & (data_prov_final['DEVENGADO_ACUMULADO']>0),'id_EJEC06_N' ]=1\n",
    "data_prov_final.loc[((data_prov_final['MONTO_VIABLE']>=300*1000000) & (data_prov_final['MONTO_VIABLE']<600*1000000)) & ((data_prov_final['DIF_FECHA_EJECUCION']>0) & (data_prov_final['DIF_FECHA_EJECUCION']<=3*365)) & (data_prov_final['DEVENGADO_ACUMULADO']>0),'id_EJEC06_N' ]=1\n",
    "data_prov_final.loc[((data_prov_final['MONTO_VIABLE']>=50*1000000) & (data_prov_final['MONTO_VIABLE']<300*1000000)) & ((data_prov_final['DIF_FECHA_EJECUCION']>0) & (data_prov_final['DIF_FECHA_EJECUCION']<=2*365)) & (data_prov_final['DEVENGADO_ACUMULADO']>0) ,'id_EJEC06_N' ]=1\n",
    "data_prov_final.loc[((data_prov_final['MONTO_VIABLE']>0) & (data_prov_final['MONTO_VIABLE']<50*1000000)) & ((data_prov_final['DIF_FECHA_EJECUCION']>0) & (data_prov_final['DIF_FECHA_EJECUCION']<=1*365)) & (data_prov_final['DEVENGADO_ACUMULADO']>0),'id_EJEC06_N' ]=1\n",
    "\n",
    "# Denominador\n",
    "data_prov_final['id_EJEC06_D']=0\n",
    "data_prov_final.loc[data_prov_final['DEVENGADO_ACUMULADO']>0,'id_EJEC06_D']=1\n",
    "\n",
    "#Preliminar\n",
    "data_prov_final_ind06=data_prov_final.copy()\n",
    "data_prov_final_ind06=data_prov_final_ind06[['CODIGO_SNIP',\"id_EJEC06_N\",\"id_EJEC06_D\"]]"
   ]
  },
  {
   "cell_type": "code",
   "execution_count": 63,
   "metadata": {},
   "outputs": [],
   "source": [
    "#Collapsando\n",
    "data_prov_final=data_prov_final[[\"id_ambito\",\"ENTIDAD\",\"id_EJEC06_N\",\"id_EJEC06_D\"]].groupby(by=['ENTIDAD', 'id_ambito'],as_index=False).sum()"
   ]
  },
  {
   "cell_type": "code",
   "execution_count": 64,
   "metadata": {},
   "outputs": [],
   "source": [
    "# Estimando indicador\n",
    "data_prov_final['EJEC06']=data_prov_final['id_EJEC06_N']/data_prov_final['id_EJEC06_D']"
   ]
  },
  {
   "cell_type": "code",
   "execution_count": 65,
   "metadata": {},
   "outputs": [],
   "source": [
    "#Exportando resultado\n",
    "#writer = pd.ExcelWriter(ruta_output / 'indicadores_7.xlsx')\n",
    "data_prov_final.to_excel(writer, sheet_name='EJEC06' , index= False)\n",
    "data_prov_final_6=data_prov_final.copy()\n",
    "#writer.save()\n",
    "#writer.close()"
   ]
  },
  {
   "attachments": {},
   "cell_type": "markdown",
   "metadata": {},
   "source": [
    "### **EJEC07**: Competitividad en los procesos concursales para la ejecución de inversiones\n"
   ]
  },
  {
   "cell_type": "code",
   "execution_count": 66,
   "metadata": {},
   "outputs": [],
   "source": [
    "#Collapsando\n",
    "data_seace_inv['cant_postor']=1\n",
    "data_seace_inv_collap=data_seace_inv[['CODIGOCONVOCATORIA','CODIGO_UNICO', 'cant_postor']].groupby(by=['CODIGOCONVOCATORIA','CODIGO_UNICO'], as_index=False).sum()"
   ]
  },
  {
   "cell_type": "code",
   "execution_count": 67,
   "metadata": {},
   "outputs": [],
   "source": [
    "#Promedio\n",
    "data_seace_inv_collap=data_seace_inv_collap[['cant_postor','CODIGO_UNICO']].groupby(by=['CODIGO_UNICO'],as_index=False).mean()"
   ]
  },
  {
   "cell_type": "code",
   "execution_count": 68,
   "metadata": {},
   "outputs": [],
   "source": [
    "# Identificando la cantidad de inversiones viables totales entre el 2012-2022\n",
    "data_prov=data_inversiones.loc[(data_inversiones['SITUACION']==\"VIABLE\") | (data_inversiones['SITUACION']==\"APROBADO\")]     \n",
    "data_prov=data_prov.drop_duplicates(['CODIGO_SNIP'], keep='first')\n",
    "\n",
    "#Inversiones entre el 2012 y 2022\n",
    "data_prov=data_prov.loc[(data_prov['año']>=2012) & (data_prov['año']<=2022)]  #Inversiones entre el 2012 y 2022"
   ]
  },
  {
   "cell_type": "code",
   "execution_count": 69,
   "metadata": {},
   "outputs": [],
   "source": [
    "# join\n",
    "data_prov_final=data_prov.merge(right=data_seace_inv_collap, how='left', on=['CODIGO_UNICO'])"
   ]
  },
  {
   "cell_type": "code",
   "execution_count": 70,
   "metadata": {},
   "outputs": [],
   "source": [
    "# Numerador\n",
    "'''\n",
    "Los Puntajes de Competitividad de una comvocatoria son asignados en función al promedio de postores que una inversión tuvo por convocatoria. De tal forma:\n",
    "-Si el promedio de postores es menor o igual a 1, se le asigna un puntaje de cero (0).\n",
    "-Si el promedio de postores es mayor a 1 y menor que 3, se le asigna un puntaje de 0.3.\n",
    "-Si el promedio de postores es mayor o igual que 3 y menor que 6, se le asigna un puntaje de 0.6.\n",
    "-Si el promedio de postores es mayor o igual que 6, se le asigna un puntaje de 1.\n",
    "'''\n",
    "data_prov_final['id_EJEC07_N']=0\n",
    "data_prov_final.loc[data_prov_final['cant_postor']<=1,'id_EJEC07_N']=0\n",
    "data_prov_final.loc[((data_prov_final['cant_postor']>1) & (data_prov_final['cant_postor']<3)),'id_EJEC07_N']=0.3\n",
    "data_prov_final.loc[((data_prov_final['cant_postor']>=3) & (data_prov_final['cant_postor']<6)),'id_EJEC07_N']=0.6\n",
    "data_prov_final.loc[((data_prov_final['cant_postor']>=6)),'id_EJEC07_N']=1\n",
    "\n",
    "#Denominador\n",
    "data_prov_final['id_EJEC07_D']=1 #Inversiones declaradas viables entre 2012-2022\n",
    "\n",
    "#Preliminar\n",
    "data_prov_final_ind7=data_prov_final.copy()\n",
    "data_prov_final_ind7=data_prov_final_ind7[['CODIGO_SNIP', \"id_EJEC07_N\",\"id_EJEC07_D\"]]"
   ]
  },
  {
   "cell_type": "code",
   "execution_count": 71,
   "metadata": {},
   "outputs": [],
   "source": [
    "#Collapsando\n",
    "data_prov_final=data_prov_final[[\"id_ambito\",\"ENTIDAD\",\"id_EJEC07_N\",\"id_EJEC07_D\"]].groupby(by=['ENTIDAD', 'id_ambito'],as_index=False).sum()"
   ]
  },
  {
   "cell_type": "code",
   "execution_count": 72,
   "metadata": {},
   "outputs": [],
   "source": [
    "# Estimando indicador\n",
    "data_prov_final['EJEC07']=data_prov_final['id_EJEC07_N']/data_prov_final['id_EJEC07_D']"
   ]
  },
  {
   "cell_type": "code",
   "execution_count": 73,
   "metadata": {},
   "outputs": [],
   "source": [
    "#Exportando resultado\n",
    "#writer = pd.ExcelWriter(ruta_output / 'indicadores_8.xlsx')\n",
    "data_prov_final.to_excel(writer, sheet_name='EJEC07' , index= False)\n",
    "#writer.save()\n",
    "#writer.close()\n",
    "\n",
    "data_prov_final_7=data_prov_final.copy()\n"
   ]
  },
  {
   "cell_type": "code",
   "execution_count": null,
   "metadata": {},
   "outputs": [],
   "source": []
  },
  {
   "attachments": {},
   "cell_type": "markdown",
   "metadata": {},
   "source": [
    "### **EJEC09**: Verificación del estado de cierre de la inversión respecto al Formato N° 9\n",
    "\n",
    "### Se plantea el siguiente indicador: **EJEC09**: Porcentaje de inversiones que gastaron y su descripción de cierre es diferente de \"No culminado\""
   ]
  },
  {
   "cell_type": "code",
   "execution_count": 74,
   "metadata": {},
   "outputs": [],
   "source": [
    "# Identificando la cantidad de inversiones viables totales entre el 2012-2022\n",
    "data_prov=data_inversiones.loc[(data_inversiones['SITUACION']==\"VIABLE\") | (data_inversiones['SITUACION']==\"APROBADO\")]     \n",
    "data_prov=data_prov.drop_duplicates(['CODIGO_SNIP'], keep='first')\n",
    "\n",
    "#Inversiones entre el 2012 y 2022\n",
    "data_prov=data_prov.loc[(data_prov['año']>=2012) & (data_prov['año']<=2022)]  #Inversiones entre el 2012 y 2022"
   ]
  },
  {
   "cell_type": "code",
   "execution_count": 75,
   "metadata": {},
   "outputs": [],
   "source": [
    "#Denominador\n",
    "data_prov['id_EJEC09_D']=0 \n",
    "data_prov.loc[(data_prov['DEVENGADO_ACUMULADO']>0),\"id_EJEC09_D\"] =1 #Inversiones con devengado mayor a cero\n",
    "\n",
    "#Numerador\n",
    "data_prov['id_EJEC09_N']=0\n",
    "data_prov.loc[(data_prov['DEVENGADO_ACUMULADO']>0),\"id_EJEC09_N\"] =1\n",
    "data_prov.loc[((data_prov['DEVENGADO_ACUMULADO']>0) & (data_prov['DES_CIERRE']==\"No culminada\")) ,\"id_EJEC09_N\"] =0 #Inversiones con devengado mayor a cero y descripcion de cierre \"No culminada\"\n",
    "\n",
    "#Preliminar\n",
    "data_prov_ind9=data_prov.copy()\n",
    "data_prov_ind9=data_prov_ind9[['CODIGO_SNIP', \"id_EJEC09_N\",\"id_EJEC09_D\"]]"
   ]
  },
  {
   "cell_type": "code",
   "execution_count": 76,
   "metadata": {},
   "outputs": [],
   "source": [
    "#Collapsando\n",
    "data_prov_final=data_prov[[\"id_ambito\",\"ENTIDAD\",\"id_EJEC09_N\",\"id_EJEC09_D\"]].groupby(by=['ENTIDAD', 'id_ambito'],as_index=False).sum()"
   ]
  },
  {
   "cell_type": "code",
   "execution_count": 77,
   "metadata": {},
   "outputs": [],
   "source": [
    "# Estimando indicador\n",
    "data_prov_final['EJEC09']=data_prov_final['id_EJEC09_N']/data_prov_final['id_EJEC09_D']"
   ]
  },
  {
   "cell_type": "code",
   "execution_count": 78,
   "metadata": {},
   "outputs": [],
   "source": [
    "#Exportando resultado\n",
    "#writer = pd.ExcelWriter(ruta_output / 'indicadores_8.xlsx')\n",
    "data_prov_final.to_excel(writer, sheet_name='EJEC09' , index= False)\n",
    "#writer.save()\n",
    "#writer.close()\n",
    "\n",
    "data_prov_final_9=data_prov_final.copy()"
   ]
  },
  {
   "attachments": {},
   "cell_type": "markdown",
   "metadata": {},
   "source": [
    "### **EJEC08**: Eficacia en la ejecución respecto al ET o documento equivalente"
   ]
  },
  {
   "cell_type": "code",
   "execution_count": 79,
   "metadata": {},
   "outputs": [],
   "source": [
    "#Inversiones  de la etapa \"Expediente técnico (B)\"\n",
    "data_inv_B=data_f8_detall_inv.copy()\n",
    "data_inv_B=data_inv_B.loc[data_inv_B['DES_ETAPA']=='Expediente técnico (B)']\n",
    "\n",
    "#Solo nos concentraremos en infraestructura, mobiliario, equipo, intengible, etc.\n",
    "# No se considerará \"GESTION DEL PROYECTO\", \"EXPEDIENTE TÉCNICO\", \"SUPERVISIÓN\"\n",
    "# \"SUPERVISIÓN COVID\", \"SUPERVISIÓN COVID\",\"GASTOS GENERALES COVID\", \"GESTIÓN Y OTROS NEC3-G2G ARCC\"\n",
    "# \"ESTUDIO BASE\", \"GESTIÓN DEL PROGRAMA\", \"CONTROL CONCURRENTE\"\n",
    "\n",
    "data_inv_B=data_inv_B.loc[~((data_inv_B['DES_TIPO_COMPONENTE']=='GESTION DEL PROYECTO') | (data_inv_B['DES_TIPO_COMPONENTE']=='EXPEDIENTE TÉCNICO')\n",
    "                           | (data_inv_B['DES_TIPO_COMPONENTE']=='SUPERVISIÓN') | (data_inv_B['DES_TIPO_COMPONENTE']=='SUPERVISIÓN COVID')  \n",
    "                            | (data_inv_B['DES_TIPO_COMPONENTE']=='GASTOS GENERALES COVID') | (data_inv_B['DES_TIPO_COMPONENTE']=='GESTIÓN Y OTROS NEC3-G2G ARCC')\n",
    "                             | (data_inv_B['DES_TIPO_COMPONENTE']=='ESTUDIO BASE') | (data_inv_B['DES_TIPO_COMPONENTE']=='GESTIÓN DEL PROGRAMA') \n",
    "                              | (data_inv_B['DES_TIPO_COMPONENTE']=='CONTROL CONCURRENTE'))]\n",
    "\n",
    "data_inv_B['COSTO_INVERSION_B']=data_inv_B['COSTO_INVERSION']\n"
   ]
  },
  {
   "cell_type": "code",
   "execution_count": 80,
   "metadata": {},
   "outputs": [],
   "source": [
    "data_inv_B_collapse=data_inv_B[[\"CODIGO_UNICO\",\"COSTO_INVERSION_B\"]].groupby(by=['CODIGO_UNICO'],as_index=False).sum()"
   ]
  },
  {
   "cell_type": "code",
   "execution_count": 81,
   "metadata": {},
   "outputs": [],
   "source": [
    "#Inversiones  de la etapa \"Ejecución física (C)\"\n",
    "data_inv_C=data_f8_detall_inv.copy()\n",
    "data_inv_C=data_inv_C.loc[data_inv_C['DES_ETAPA']=='Ejecución física (C)']\n",
    "\n",
    "#Solo nos concentraremos en infraestructura, mobiliario, equipo, intengible, etc.\n",
    "# No se considerará \"GESTION DEL PROYECTO\", \"EXPEDIENTE TÉCNICO\", \"SUPERVISIÓN\"\n",
    "# \"SUPERVISIÓN COVID\", \"SUPERVISIÓN COVID\",\"GASTOS GENERALES COVID\", \"GESTIÓN Y OTROS NEC3-G2G ARCC\"\n",
    "# \"ESTUDIO BASE\", \"GESTIÓN DEL PROGRAMA\", \"CONTROL CONCURRENTE\"\n",
    "\n",
    "data_inv_C=data_inv_C.loc[~((data_inv_C['DES_TIPO_COMPONENTE']=='GESTION DEL PROYECTO') | (data_inv_C['DES_TIPO_COMPONENTE']=='EXPEDIENTE TÉCNICO')\n",
    "                           | (data_inv_C['DES_TIPO_COMPONENTE']=='SUPERVISIÓN') | (data_inv_C['DES_TIPO_COMPONENTE']=='SUPERVISIÓN COVID')  \n",
    "                            | (data_inv_C['DES_TIPO_COMPONENTE']=='GASTOS GENERALES COVID') | (data_inv_C['DES_TIPO_COMPONENTE']=='GESTIÓN Y OTROS NEC3-G2G ARCC')\n",
    "                             | (data_inv_C['DES_TIPO_COMPONENTE']=='ESTUDIO BASE') | (data_inv_C['DES_TIPO_COMPONENTE']=='GESTIÓN DEL PROGRAMA') \n",
    "                              | (data_inv_C['DES_TIPO_COMPONENTE']=='CONTROL CONCURRENTE'))]\n",
    "\n",
    "data_inv_C['COSTO_INVERSION_C']=data_inv_C['COSTO_INVERSION']\n"
   ]
  },
  {
   "cell_type": "code",
   "execution_count": 82,
   "metadata": {},
   "outputs": [],
   "source": [
    "data_inv_C_collapse=data_inv_C[[\"CODIGO_UNICO\",\"COSTO_INVERSION_C\"]].groupby(by=['CODIGO_UNICO'],as_index=False).sum()"
   ]
  },
  {
   "cell_type": "code",
   "execution_count": 83,
   "metadata": {},
   "outputs": [],
   "source": [
    "#join entre ambas bases\n",
    "data_inv_union=data_inv_B_collapse.merge(right=data_inv_C_collapse, how='left', on=[\"CODIGO_UNICO\"] )"
   ]
  },
  {
   "cell_type": "code",
   "execution_count": 84,
   "metadata": {},
   "outputs": [],
   "source": [
    "#Generando\n",
    "data_inv_union['DIFERENCIA']=data_inv_union['COSTO_INVERSION_C'] - data_inv_union['COSTO_INVERSION_B'] \n",
    "data_inv_union.loc[data_inv_union['DIFERENCIA'].isnull(), 'DIFERENCIA'] = 0\n"
   ]
  },
  {
   "cell_type": "code",
   "execution_count": 85,
   "metadata": {},
   "outputs": [],
   "source": [
    "# Identificando la cantidad de inversiones viables totales entre el 2012-2022\n",
    "data_prov=data_inversiones.loc[(data_inversiones['SITUACION']==\"VIABLE\")  | (data_inversiones['SITUACION']==\"APROBADO\")]     \n",
    "data_prov=data_prov.drop_duplicates(['CODIGO_SNIP'], keep='first')\n",
    "\n",
    "#Inversiones entre el 2012 y 2022\n",
    "data_prov=data_prov.loc[(data_prov['año']>=2012) & (data_prov['año']<=2022)]  #Inversiones entre el 2012 y 2022"
   ]
  },
  {
   "cell_type": "code",
   "execution_count": 86,
   "metadata": {},
   "outputs": [],
   "source": [
    "#Join\n",
    "data_inv_union_vf=data_prov.merge(right=data_inv_union, how='left', on=[\"CODIGO_UNICO\"] )"
   ]
  },
  {
   "cell_type": "code",
   "execution_count": 87,
   "metadata": {},
   "outputs": [],
   "source": [
    "#Generando denominador\n",
    "data_inv_union_vf['id_EJEC08_D']=1\n",
    "\n",
    "#Generando numerador\n",
    "data_inv_union_vf['id_EJEC08_N']=1\n",
    "data_inv_union_vf.loc[(data_inv_union_vf['DIFERENCIA']>0),'id_EJEC08_N' ]=0\n",
    "data_inv_union_vf.loc[(data_inv_union_vf['DIFERENCIA'].isnull()),'id_EJEC08_N' ]=0\n",
    "\n",
    "#Base preliminar\n",
    "data_inv_ind8=data_inv_union_vf.copy()\n",
    "data_inv_ind8=data_inv_ind8[['CODIGO_SNIP',\"id_EJEC08_N\",\"id_EJEC08_D\"]]"
   ]
  },
  {
   "cell_type": "code",
   "execution_count": 88,
   "metadata": {},
   "outputs": [],
   "source": [
    "data_inv_union_collapse=data_inv_union_vf[[\"id_ambito\",\"ENTIDAD\",\"id_EJEC08_N\",\"id_EJEC08_D\"]].groupby(by=['ENTIDAD', 'id_ambito'],as_index=False).sum()"
   ]
  },
  {
   "cell_type": "code",
   "execution_count": 89,
   "metadata": {},
   "outputs": [],
   "source": [
    "#Indicador\n",
    "data_inv_union_collapse['EJEC08']=data_inv_union_collapse['id_EJEC08_N']/data_inv_union_collapse['id_EJEC08_D']"
   ]
  },
  {
   "cell_type": "code",
   "execution_count": 90,
   "metadata": {},
   "outputs": [
    {
     "name": "stderr",
     "output_type": "stream",
     "text": [
      "C:\\Users\\llan_\\AppData\\Local\\Temp\\ipykernel_1472\\1723977604.py:5: FutureWarning: save is not part of the public API, usage can give unexpected results and will be removed in a future version\n",
      "  writer.save()\n"
     ]
    }
   ],
   "source": [
    "#Exportando resultado\n",
    "#writer = pd.ExcelWriter(ruta_output / 'indicadores_6.xlsx')\n",
    "data_inv_union_collapse.to_excel(writer, sheet_name='EJEC08' , index= False)\n",
    "data_inv_8=data_inv_union_collapse.copy()\n",
    "writer.save()\n",
    "writer.close()"
   ]
  },
  {
   "attachments": {},
   "cell_type": "markdown",
   "metadata": {},
   "source": [
    "### Uniendo las bases para exportar\n"
   ]
  },
  {
   "cell_type": "code",
   "execution_count": 91,
   "metadata": {},
   "outputs": [
    {
     "name": "stderr",
     "output_type": "stream",
     "text": [
      "C:\\Users\\llan_\\AppData\\Local\\Temp\\ipykernel_1472\\1414488534.py:15: FutureWarning: save is not part of the public API, usage can give unexpected results and will be removed in a future version\n",
      "  writer.save()\n"
     ]
    }
   ],
   "source": [
    "# Exportando la base\n",
    "writer = pd.ExcelWriter(ruta_output / 'Base_indicadores_inversion.xlsx')\n",
    "\n",
    "#Uniendo las bases preliminares\n",
    "total_base=data_prov_ind1.merge(right=data_prov_ind2_3, how=\"left\",on=['CODIGO_SNIP'])\n",
    "total_base=total_base.merge(right=data_prov_ind4, how=\"left\",on=['CODIGO_SNIP'])\n",
    "total_base=total_base.merge(right=data_prov_ind1_2_1_2_4_5, how=\"left\",on=['CODIGO_SNIP'])\n",
    "total_base=total_base.merge(right=data_et_inv_union_ind3, how=\"left\",on=['CODIGO_SNIP'])\n",
    "total_base=total_base.merge(right=data_prov_final_ind06, how=\"left\",on=['CODIGO_SNIP'])\n",
    "total_base=total_base.merge(right=data_prov_final_ind7, how=\"left\",on=['CODIGO_SNIP'])\n",
    "total_base=total_base.merge(right=data_prov_ind9, how=\"left\",on=['CODIGO_SNIP'])\n",
    "total_base=total_base.merge(right=data_inv_ind8, how=\"left\",on=['CODIGO_SNIP'])\n",
    "\n",
    "total_base.to_excel(writer, sheet_name='Base_indicadores_inversion' , index= False)\n",
    "writer.save()\n",
    "writer.close()\n",
    "#total_base.to_excel(ruta_output / 'indicadores_consolidado.xlsx', sheet_name='inversiones' , index= False)\n"
   ]
  },
  {
   "cell_type": "code",
   "execution_count": 92,
   "metadata": {},
   "outputs": [],
   "source": [
    "# Exportando la base\n",
    "writer = pd.ExcelWriter(ruta_output / 'Base_indicadores_final.xlsx')\n",
    "\n",
    "#Uniendo las bases finales\n",
    "total_base_final=data_prov_1.merge(right=data_prov_2_3, how=\"left\",on=[\"id_ambito\",\"ENTIDAD\"])\n",
    "total_base_final=total_base_final.merge(right=data_prov_union_4, how=\"left\",on=[\"id_ambito\",\"ENTIDAD\"])\n",
    "total_base_final=total_base_final.merge(right=data_prov_1_2_1_2_4_5, how=\"left\",on=[\"id_ambito\",\"ENTIDAD\"])\n",
    "total_base_final=total_base_final.merge(right=data_et_inv_collapse_3, how=\"left\",on=[\"id_ambito\",\"ENTIDAD\"])\n",
    "total_base_final=total_base_final.merge(right=data_prov_final_6, how=\"left\",on=[\"id_ambito\",\"ENTIDAD\"])\n",
    "total_base_final=total_base_final.merge(right=data_prov_final_7, how=\"left\",on=[\"id_ambito\",\"ENTIDAD\"])\n",
    "total_base_final=total_base_final.merge(right=data_prov_final_9, how=\"left\",on=[\"id_ambito\",\"ENTIDAD\"])\n",
    "total_base_final=total_base_final.merge(right=data_inv_8, how=\"left\",on=[\"id_ambito\",\"ENTIDAD\"])\n",
    "\n",
    "\n",
    "#total_base_final.to_excel(writer, sheet_name='Base_indicadores_all' , index= False)\n",
    "#writer.save()\n",
    "#writer.close()"
   ]
  },
  {
   "attachments": {},
   "cell_type": "markdown",
   "metadata": {},
   "source": [
    "### Indicador **GOB01**: Información revelada en los indicadores"
   ]
  },
  {
   "cell_type": "code",
   "execution_count": 93,
   "metadata": {},
   "outputs": [],
   "source": [
    "# Identificando los inicadores con información\n",
    "for i in range(1,16):\n",
    "    total_base_final[f'id_{i}']=0\n",
    "\n",
    "total_base_final.loc[total_base_final['PRG01_PROM'].isnull(), 'id_1']=1 \n",
    "total_base_final.loc[total_base_final['PRG02'].isnull(), 'id_2']=1 \n",
    "total_base_final.loc[total_base_final['PRG03'].isnull(), 'id_3']=1 \n",
    "total_base_final.loc[total_base_final['PRG04'].isnull(), 'id_4']=1 \n",
    "total_base_final.loc[total_base_final['FORM01'].isnull(), 'id_5']=1 \n",
    "total_base_final.loc[total_base_final['FORM02'].isnull(), 'id_6']=1 \n",
    "total_base_final.loc[total_base_final['EJEC01'].isnull(), 'id_7']=1 \n",
    "total_base_final.loc[total_base_final['EJEC02'].isnull(), 'id_8']=1 \n",
    "total_base_final.loc[total_base_final['EJEC03'].isnull(), 'id_9']=1 \n",
    "total_base_final.loc[total_base_final['EJEC04'].isnull(), 'id_10']=1 \n",
    "total_base_final.loc[total_base_final['EJEC05'].isnull(), 'id_11']=1 \n",
    "total_base_final.loc[total_base_final['EJEC06'].isnull(), 'id_12']=1 \n",
    "total_base_final.loc[total_base_final['EJEC07'].isnull(), 'id_13']=1 \n",
    "total_base_final.loc[total_base_final['EJEC08'].isnull(), 'id_14']=1 \n",
    "total_base_final.loc[total_base_final['EJEC09'].isnull(), 'id_15']=1 \n",
    "\n",
    "total_base_final['id_total']=total_base_final['id_1']+total_base_final['id_2']+total_base_final['id_3']+total_base_final['id_4']+total_base_final['id_5']+total_base_final['id_6']\n",
    "+total_base_final['id_7']+total_base_final['id_8']+total_base_final['id_9']+total_base_final['id_10']+total_base_final['id_11']+total_base_final['id_12']+total_base_final['id_13']\n",
    "+total_base_final['id_14']+total_base_final['id_15']\n",
    "\n",
    "total_base_final['iindicadores']=15 - total_base_final['id_total']\n",
    "\n",
    "#Estimando el indicador de \"GOB01\"\n",
    "total_base_final['GOB01']=total_base_final['iindicadores']/15\n"
   ]
  },
  {
   "cell_type": "code",
   "execution_count": 94,
   "metadata": {},
   "outputs": [],
   "source": [
    "#Los promedios por Ciclo de inversión\n",
    "total_base_final['SPRG']=(total_base_final['PRG01_PROM'] + total_base_final['PRG02'] + total_base_final['PRG03'] + total_base_final['PRG04']) / 4\n",
    "total_base_final['SFOR']=(total_base_final['FORM01'] + total_base_final['FORM02'] ) / 2\n",
    "total_base_final['SEJE']=(total_base_final['EJEC01'] + total_base_final['EJEC02'] + total_base_final['EJEC03']  + total_base_final['EJEC04']  + total_base_final['EJEC05']  + total_base_final['EJEC06'] \n",
    "                          +  total_base_final['EJEC07']  +  total_base_final['EJEC08']  +  total_base_final['EJEC09']) / 9 "
   ]
  },
  {
   "cell_type": "code",
   "execution_count": 95,
   "metadata": {},
   "outputs": [],
   "source": [
    "#Indice de desempeño\n",
    "total_base_final['IDGIP']=total_base_final['SPRG']*0.3+total_base_final['SFOR']*0.3+total_base_final['SEJE']*0.3+total_base_final['GOB01']*0.1"
   ]
  },
  {
   "cell_type": "code",
   "execution_count": 96,
   "metadata": {},
   "outputs": [
    {
     "name": "stderr",
     "output_type": "stream",
     "text": [
      "C:\\Users\\llan_\\AppData\\Local\\Temp\\ipykernel_1472\\3026517890.py:25: FutureWarning: save is not part of the public API, usage can give unexpected results and will be removed in a future version\n",
      "  writer.save()\n"
     ]
    }
   ],
   "source": [
    "#Ordenando los indicadores\n",
    "total_base_1=total_base_final[[\"id_ambito\",\"ENTIDAD\",\n",
    "                  'PMI_2','PMI_2_PREVISTAS','PRG01_2',\n",
    "                  'PMI_3','PMI_3_PREVISTAS','PRG01_3','PMI_4','PMI_4_PREVISTAS','PRG01_4','PRG01_PROM',\n",
    "                  'MONTO_PIM','MONTO_DEVENGADO','MONTO_PROGRAMADO','PRG02','PRG03',\n",
    "                  'id_brecha','id_inversion','PRG04','SPRG',\n",
    "                  'id_FORM01_N','id_FORM01_D','FORM01',\n",
    "                  'id_FORM02_N','id_FORM02_D','FORM02', 'SFOR',\n",
    "                  'id_EJEC01_N','id_EJEC01_D','EJEC01',\n",
    "                  'id_EJEC02_N','id_EJEC02_D','EJEC02',\n",
    "                  'id_EJEC03_N','id_EJEC03_D','EJEC03',\n",
    "                  'id_EJEC04_N','id_EJEC04_D','EJEC04',\n",
    "                  'id_EJEC05_N','id_EJEC05_D','EJEC05',\n",
    "                  'id_EJEC06_N','id_EJEC06_D','EJEC06',\n",
    "                  'id_EJEC07_N','id_EJEC07_D','EJEC07',\n",
    "                  'id_EJEC08_N','id_EJEC08_D','EJEC08',\n",
    "                  'id_EJEC09_N','id_EJEC09_D','EJEC09','SEJE','GOB01','IDGIP']]\n",
    "\n",
    "total_base_1.to_excel(writer, sheet_name='Base_indicadores_all' , index= False)\n",
    "\n",
    "total_base_1=total_base_final[[\"id_ambito\",\"ENTIDAD\",'PRG01_PROM','PRG02','PRG03','PRG04','SPRG','FORM01','FORM02','SFOR','EJEC01','EJEC02',\n",
    "                  'EJEC03','EJEC04','EJEC05','EJEC06','EJEC07','EJEC08','EJEC09','SEJE','GOB01','IDGIP']]\n",
    "\n",
    "total_base_1.to_excel(writer, sheet_name='Base_indicadores_resumen' , index= False)\n",
    "writer.save()\n",
    "writer.close()\n"
   ]
  }
 ],
 "metadata": {
  "kernelspec": {
   "display_name": "Python 3",
   "language": "python",
   "name": "python3"
  },
  "language_info": {
   "codemirror_mode": {
    "name": "ipython",
    "version": 3
   },
   "file_extension": ".py",
   "mimetype": "text/x-python",
   "name": "python",
   "nbconvert_exporter": "python",
   "pygments_lexer": "ipython3",
   "version": "3.11.1"
  },
  "orig_nbformat": 4,
  "vscode": {
   "interpreter": {
    "hash": "1f61a6c864b7e65c3f028a9028c862e288625aec6a46fd8b10de869027bd5f7a"
   }
  }
 },
 "nbformat": 4,
 "nbformat_minor": 2
}
